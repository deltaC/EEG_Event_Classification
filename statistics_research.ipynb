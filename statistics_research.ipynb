{
 "cells": [
  {
   "cell_type": "code",
   "execution_count": 1,
   "metadata": {},
   "outputs": [],
   "source": [
    "import numpy as np\n",
    "import scipy\n",
    "import matplotlib.pyplot as plt\n",
    "import pandas as pd"
   ]
  },
  {
   "cell_type": "code",
   "execution_count": 61,
   "metadata": {},
   "outputs": [],
   "source": [
    "from scipy import signal\n",
    "from numpy import linalg"
   ]
  },
  {
   "cell_type": "code",
   "execution_count": 3,
   "metadata": {},
   "outputs": [],
   "source": [
    "import mne"
   ]
  },
  {
   "cell_type": "markdown",
   "metadata": {},
   "source": [
    "# Loading, filtering and extracting data"
   ]
  },
  {
   "cell_type": "code",
   "execution_count": 4,
   "metadata": {},
   "outputs": [
    {
     "name": "stdout",
     "output_type": "stream",
     "text": [
      "Extracting EDF parameters from /home/delta_c/EnW/Biotech_Researches/EEG_Event_Classification-1/data/Dual_Aural.edf...\n",
      "EDF file detected\n",
      "Setting channel info structure...\n",
      "Creating raw.info structure...\n",
      "Reading 0 ... 359499  =      0.000 ...   718.998 secs...\n"
     ]
    },
    {
     "name": "stderr",
     "output_type": "stream",
     "text": [
      "/tmp/ipykernel_6635/3131080669.py:1: RuntimeWarning: Channel names are not unique, found duplicates for: {'SAO2'}. Applying running numbers for duplicates.\n",
      "  raw = mne.io.read_raw_edf('data/Dual_Aural.edf', preload=True)\n"
     ]
    }
   ],
   "source": [
    "raw = mne.io.read_raw_edf('data/Dual_Aural.edf', preload=True)"
   ]
  },
  {
   "cell_type": "code",
   "execution_count": 5,
   "metadata": {},
   "outputs": [
    {
     "data": {
      "text/html": [
       "<details open>\n",
       "    <summary><strong>General</strong></summary>\n",
       "    <table class=\"table table-hover table-striped table-sm table-responsive small\">\n",
       "        <tr>\n",
       "            <th>Measurement date</th>\n",
       "            \n",
       "            <td>September 09, 2024  11:41:48 GMT</td>\n",
       "            \n",
       "        </tr>\n",
       "        <tr>\n",
       "            <th>Experimenter</th>\n",
       "            \n",
       "            <td>Unknown</td>\n",
       "            \n",
       "        </tr>\n",
       "        <tr>\n",
       "            <th>Participant</th>\n",
       "            \n",
       "            \n",
       "            <td>5d106bf1-e0b7-4ff8-a364-276fbd64079f</td>\n",
       "            \n",
       "            \n",
       "        </tr>\n",
       "    </table>\n",
       "    </details>\n",
       "    <details open>\n",
       "        <summary><strong>Channels</strong></summary>\n",
       "        <table class=\"table table-hover table-striped table-sm table-responsive small\">\n",
       "            <tr>\n",
       "                <th>Digitized points</th>\n",
       "                \n",
       "                <td>Not available</td>\n",
       "                \n",
       "            </tr>\n",
       "            <tr>\n",
       "                <th>Good channels</th>\n",
       "                <td>19 EEG</td>\n",
       "            </tr>\n",
       "            <tr>\n",
       "                <th>Bad channels</th>\n",
       "                <td>None</td>\n",
       "            </tr>\n",
       "            <tr>\n",
       "                <th>EOG channels</th>\n",
       "                <td>Not available</td>\n",
       "            </tr>\n",
       "            <tr>\n",
       "                <th>ECG channels</th>\n",
       "                <td>Not available</td>\n",
       "            </tr>\n",
       "        </table>\n",
       "        </details>\n",
       "        <details open>\n",
       "            <summary><strong>Data</strong></summary>\n",
       "            <table class=\"table table-hover table-striped table-sm table-responsive small\">\n",
       "                \n",
       "                <tr>\n",
       "                    <th>Sampling frequency</th>\n",
       "                    <td>500.00 Hz</td>\n",
       "                </tr>\n",
       "                \n",
       "                \n",
       "                <tr>\n",
       "                    <th>Highpass</th>\n",
       "                    <td>0.00 Hz</td>\n",
       "                </tr>\n",
       "                \n",
       "                \n",
       "                <tr>\n",
       "                    <th>Lowpass</th>\n",
       "                    <td>250.00 Hz</td>\n",
       "                </tr>\n",
       "                \n",
       "                \n",
       "                \n",
       "                <tr>\n",
       "                    <th>Filenames</th>\n",
       "                    <td>Dual_Aural.edf</td>\n",
       "                </tr>\n",
       "                \n",
       "                \n",
       "                <tr>\n",
       "                    <th>Duration</th>\n",
       "                    <td>00:11:59 (HH:MM:SS)</td>\n",
       "                </tr>\n",
       "                \n",
       "            </table>\n",
       "            </details>"
      ],
      "text/plain": [
       "<RawEDF | Dual_Aural.edf, 19 x 359500 (719.0 s), ~52.1 MB, data loaded>"
      ]
     },
     "execution_count": 5,
     "metadata": {},
     "output_type": "execute_result"
    }
   ],
   "source": [
    "raw.drop_channels(raw.ch_names[-5:])"
   ]
  },
  {
   "cell_type": "code",
   "execution_count": 6,
   "metadata": {},
   "outputs": [
    {
     "data": {
      "text/plain": [
       "['EEG FP1-A2_FP1-A',\n",
       " 'EEG FP2-A1_FP2-A',\n",
       " 'EEG F3-A2_F3-A2',\n",
       " 'EEG F4-A1_F4-A1',\n",
       " 'EEG C3-A2_C3-A2',\n",
       " 'EEG C4-A1_C4-A1',\n",
       " 'EEG P3-A2_P3-A2',\n",
       " 'EEG P4-A1_P4-A1',\n",
       " 'EEG O1-A2_O1-A2',\n",
       " 'EEG O2-A1_O2-A1',\n",
       " 'EEG F7-A2_F7-A2',\n",
       " 'EEG F8-A1_F8-A1',\n",
       " 'EEG T3-A2_T3-A2',\n",
       " 'EEG T4-A1_T4-A1',\n",
       " 'EEG T5-A2_T5-A2',\n",
       " 'EEG T6-A1_T6-A1',\n",
       " 'EEG FZ-A1_FZ-A1',\n",
       " 'EEG CZ-A2_CZ-A2',\n",
       " 'EEG PZ-A1_PZ-A1']"
      ]
     },
     "execution_count": 6,
     "metadata": {},
     "output_type": "execute_result"
    }
   ],
   "source": [
    "raw.ch_names"
   ]
  },
  {
   "cell_type": "code",
   "execution_count": 7,
   "metadata": {},
   "outputs": [],
   "source": [
    "mapping = dict(zip(raw.ch_names, ['FP1', 'FP2', 'F3', 'F4', 'C3', 'C4', 'P3', 'P4', 'O1', 'O2', 'F7', 'F8', 'T3', 'T4', 'T5', 'T6', 'Fz', 'Cz', 'Pz']))"
   ]
  },
  {
   "cell_type": "code",
   "execution_count": 8,
   "metadata": {},
   "outputs": [
    {
     "data": {
      "text/html": [
       "<details open>\n",
       "    <summary><strong>General</strong></summary>\n",
       "    <table class=\"table table-hover table-striped table-sm table-responsive small\">\n",
       "        <tr>\n",
       "            <th>Measurement date</th>\n",
       "            \n",
       "            <td>September 09, 2024  11:41:48 GMT</td>\n",
       "            \n",
       "        </tr>\n",
       "        <tr>\n",
       "            <th>Experimenter</th>\n",
       "            \n",
       "            <td>Unknown</td>\n",
       "            \n",
       "        </tr>\n",
       "        <tr>\n",
       "            <th>Participant</th>\n",
       "            \n",
       "            \n",
       "            <td>5d106bf1-e0b7-4ff8-a364-276fbd64079f</td>\n",
       "            \n",
       "            \n",
       "        </tr>\n",
       "    </table>\n",
       "    </details>\n",
       "    <details open>\n",
       "        <summary><strong>Channels</strong></summary>\n",
       "        <table class=\"table table-hover table-striped table-sm table-responsive small\">\n",
       "            <tr>\n",
       "                <th>Digitized points</th>\n",
       "                \n",
       "                <td>Not available</td>\n",
       "                \n",
       "            </tr>\n",
       "            <tr>\n",
       "                <th>Good channels</th>\n",
       "                <td>19 EEG</td>\n",
       "            </tr>\n",
       "            <tr>\n",
       "                <th>Bad channels</th>\n",
       "                <td>None</td>\n",
       "            </tr>\n",
       "            <tr>\n",
       "                <th>EOG channels</th>\n",
       "                <td>Not available</td>\n",
       "            </tr>\n",
       "            <tr>\n",
       "                <th>ECG channels</th>\n",
       "                <td>Not available</td>\n",
       "            </tr>\n",
       "        </table>\n",
       "        </details>\n",
       "        <details open>\n",
       "            <summary><strong>Data</strong></summary>\n",
       "            <table class=\"table table-hover table-striped table-sm table-responsive small\">\n",
       "                \n",
       "                <tr>\n",
       "                    <th>Sampling frequency</th>\n",
       "                    <td>500.00 Hz</td>\n",
       "                </tr>\n",
       "                \n",
       "                \n",
       "                <tr>\n",
       "                    <th>Highpass</th>\n",
       "                    <td>0.00 Hz</td>\n",
       "                </tr>\n",
       "                \n",
       "                \n",
       "                <tr>\n",
       "                    <th>Lowpass</th>\n",
       "                    <td>250.00 Hz</td>\n",
       "                </tr>\n",
       "                \n",
       "                \n",
       "                \n",
       "                <tr>\n",
       "                    <th>Filenames</th>\n",
       "                    <td>Dual_Aural.edf</td>\n",
       "                </tr>\n",
       "                \n",
       "                \n",
       "                <tr>\n",
       "                    <th>Duration</th>\n",
       "                    <td>00:11:59 (HH:MM:SS)</td>\n",
       "                </tr>\n",
       "                \n",
       "            </table>\n",
       "            </details>"
      ],
      "text/plain": [
       "<RawEDF | Dual_Aural.edf, 19 x 359500 (719.0 s), ~52.1 MB, data loaded>"
      ]
     },
     "execution_count": 8,
     "metadata": {},
     "output_type": "execute_result"
    }
   ],
   "source": [
    "raw.rename_channels(mapping)"
   ]
  },
  {
   "cell_type": "markdown",
   "metadata": {},
   "source": [
    "**Converting into pandas dataframe (optional)**"
   ]
  },
  {
   "cell_type": "code",
   "execution_count": 9,
   "metadata": {},
   "outputs": [
    {
     "data": {
      "text/html": [
       "<div>\n",
       "<style scoped>\n",
       "    .dataframe tbody tr th:only-of-type {\n",
       "        vertical-align: middle;\n",
       "    }\n",
       "\n",
       "    .dataframe tbody tr th {\n",
       "        vertical-align: top;\n",
       "    }\n",
       "\n",
       "    .dataframe thead th {\n",
       "        text-align: right;\n",
       "    }\n",
       "</style>\n",
       "<table border=\"1\" class=\"dataframe\">\n",
       "  <thead>\n",
       "    <tr style=\"text-align: right;\">\n",
       "      <th></th>\n",
       "      <th>FP1</th>\n",
       "      <th>FP2</th>\n",
       "      <th>F3</th>\n",
       "      <th>F4</th>\n",
       "      <th>C3</th>\n",
       "      <th>C4</th>\n",
       "      <th>P3</th>\n",
       "      <th>P4</th>\n",
       "      <th>O1</th>\n",
       "      <th>O2</th>\n",
       "      <th>F7</th>\n",
       "      <th>F8</th>\n",
       "      <th>T3</th>\n",
       "      <th>T4</th>\n",
       "      <th>T5</th>\n",
       "      <th>T6</th>\n",
       "      <th>Fz</th>\n",
       "      <th>Cz</th>\n",
       "      <th>Pz</th>\n",
       "    </tr>\n",
       "  </thead>\n",
       "  <tbody>\n",
       "    <tr>\n",
       "      <th>count</th>\n",
       "      <td>359500.000000</td>\n",
       "      <td>359500.000000</td>\n",
       "      <td>359500.000000</td>\n",
       "      <td>359500.000000</td>\n",
       "      <td>359500.000000</td>\n",
       "      <td>359500.000000</td>\n",
       "      <td>359500.000000</td>\n",
       "      <td>359500.000000</td>\n",
       "      <td>359500.000000</td>\n",
       "      <td>359500.000000</td>\n",
       "      <td>359500.000000</td>\n",
       "      <td>359500.000000</td>\n",
       "      <td>359500.000000</td>\n",
       "      <td>359500.000000</td>\n",
       "      <td>359500.000000</td>\n",
       "      <td>359500.000000</td>\n",
       "      <td>359500.000000</td>\n",
       "      <td>359500.000000</td>\n",
       "      <td>359500.000000</td>\n",
       "    </tr>\n",
       "    <tr>\n",
       "      <th>mean</th>\n",
       "      <td>0.187453</td>\n",
       "      <td>0.057374</td>\n",
       "      <td>0.229305</td>\n",
       "      <td>0.064663</td>\n",
       "      <td>0.184159</td>\n",
       "      <td>0.051289</td>\n",
       "      <td>0.195124</td>\n",
       "      <td>0.057817</td>\n",
       "      <td>0.123022</td>\n",
       "      <td>0.050712</td>\n",
       "      <td>0.194127</td>\n",
       "      <td>0.054478</td>\n",
       "      <td>0.195113</td>\n",
       "      <td>0.039941</td>\n",
       "      <td>0.232864</td>\n",
       "      <td>0.048647</td>\n",
       "      <td>-0.047536</td>\n",
       "      <td>-0.042587</td>\n",
       "      <td>-0.073291</td>\n",
       "    </tr>\n",
       "    <tr>\n",
       "      <th>std</th>\n",
       "      <td>214.701533</td>\n",
       "      <td>90.628992</td>\n",
       "      <td>213.845982</td>\n",
       "      <td>77.348176</td>\n",
       "      <td>210.617800</td>\n",
       "      <td>75.700513</td>\n",
       "      <td>210.729811</td>\n",
       "      <td>75.046508</td>\n",
       "      <td>209.203399</td>\n",
       "      <td>74.556884</td>\n",
       "      <td>215.776242</td>\n",
       "      <td>81.823471</td>\n",
       "      <td>215.572394</td>\n",
       "      <td>85.051901</td>\n",
       "      <td>213.297812</td>\n",
       "      <td>75.486350</td>\n",
       "      <td>115.621356</td>\n",
       "      <td>124.114375</td>\n",
       "      <td>102.593971</td>\n",
       "    </tr>\n",
       "    <tr>\n",
       "      <th>min</th>\n",
       "      <td>-3976.961861</td>\n",
       "      <td>-3139.115887</td>\n",
       "      <td>-3821.552994</td>\n",
       "      <td>-3150.719308</td>\n",
       "      <td>-3747.302488</td>\n",
       "      <td>-3142.457913</td>\n",
       "      <td>-3915.868622</td>\n",
       "      <td>-3127.972760</td>\n",
       "      <td>-3654.060000</td>\n",
       "      <td>-3138.822738</td>\n",
       "      <td>-3921.950000</td>\n",
       "      <td>-3150.025882</td>\n",
       "      <td>-3945.377697</td>\n",
       "      <td>-3172.661118</td>\n",
       "      <td>-3659.306350</td>\n",
       "      <td>-3091.622748</td>\n",
       "      <td>-6484.540000</td>\n",
       "      <td>-6464.997519</td>\n",
       "      <td>-6451.840000</td>\n",
       "    </tr>\n",
       "    <tr>\n",
       "      <th>25%</th>\n",
       "      <td>-16.302158</td>\n",
       "      <td>-18.395770</td>\n",
       "      <td>-12.429483</td>\n",
       "      <td>-13.584834</td>\n",
       "      <td>-12.124318</td>\n",
       "      <td>-13.172724</td>\n",
       "      <td>-12.444381</td>\n",
       "      <td>-13.946328</td>\n",
       "      <td>-10.258525</td>\n",
       "      <td>-11.382950</td>\n",
       "      <td>-13.655690</td>\n",
       "      <td>-15.170284</td>\n",
       "      <td>-11.614366</td>\n",
       "      <td>-12.215077</td>\n",
       "      <td>-10.953978</td>\n",
       "      <td>-12.770812</td>\n",
       "      <td>-9.196294</td>\n",
       "      <td>-11.247351</td>\n",
       "      <td>-8.868986</td>\n",
       "    </tr>\n",
       "    <tr>\n",
       "      <th>50%</th>\n",
       "      <td>-2.115662</td>\n",
       "      <td>-2.950522</td>\n",
       "      <td>-0.567981</td>\n",
       "      <td>-1.227136</td>\n",
       "      <td>-0.002140</td>\n",
       "      <td>-0.659338</td>\n",
       "      <td>0.101780</td>\n",
       "      <td>-0.463634</td>\n",
       "      <td>0.250469</td>\n",
       "      <td>-0.381905</td>\n",
       "      <td>-0.501765</td>\n",
       "      <td>-1.632871</td>\n",
       "      <td>0.189284</td>\n",
       "      <td>-0.737982</td>\n",
       "      <td>0.242878</td>\n",
       "      <td>-0.394971</td>\n",
       "      <td>-0.717139</td>\n",
       "      <td>0.013186</td>\n",
       "      <td>-0.114335</td>\n",
       "    </tr>\n",
       "    <tr>\n",
       "      <th>75%</th>\n",
       "      <td>11.019984</td>\n",
       "      <td>12.650738</td>\n",
       "      <td>11.557109</td>\n",
       "      <td>11.912694</td>\n",
       "      <td>12.120037</td>\n",
       "      <td>12.166884</td>\n",
       "      <td>12.647940</td>\n",
       "      <td>13.177680</td>\n",
       "      <td>10.503147</td>\n",
       "      <td>10.933455</td>\n",
       "      <td>12.126004</td>\n",
       "      <td>13.006424</td>\n",
       "      <td>11.730632</td>\n",
       "      <td>11.210774</td>\n",
       "      <td>11.179342</td>\n",
       "      <td>12.141595</td>\n",
       "      <td>8.193159</td>\n",
       "      <td>11.566204</td>\n",
       "      <td>8.942202</td>\n",
       "    </tr>\n",
       "    <tr>\n",
       "      <th>max</th>\n",
       "      <td>13238.351861</td>\n",
       "      <td>7083.141950</td>\n",
       "      <td>13314.626411</td>\n",
       "      <td>7098.817573</td>\n",
       "      <td>13153.850000</td>\n",
       "      <td>7106.944331</td>\n",
       "      <td>13213.300000</td>\n",
       "      <td>7266.232520</td>\n",
       "      <td>12735.869765</td>\n",
       "      <td>7158.783527</td>\n",
       "      <td>13318.636921</td>\n",
       "      <td>7163.908765</td>\n",
       "      <td>13243.885393</td>\n",
       "      <td>7129.367898</td>\n",
       "      <td>13276.850000</td>\n",
       "      <td>7439.092374</td>\n",
       "      <td>2932.495570</td>\n",
       "      <td>3118.304519</td>\n",
       "      <td>3440.011058</td>\n",
       "    </tr>\n",
       "  </tbody>\n",
       "</table>\n",
       "</div>"
      ],
      "text/plain": [
       "                 FP1            FP2             F3             F4  \\\n",
       "count  359500.000000  359500.000000  359500.000000  359500.000000   \n",
       "mean        0.187453       0.057374       0.229305       0.064663   \n",
       "std       214.701533      90.628992     213.845982      77.348176   \n",
       "min     -3976.961861   -3139.115887   -3821.552994   -3150.719308   \n",
       "25%       -16.302158     -18.395770     -12.429483     -13.584834   \n",
       "50%        -2.115662      -2.950522      -0.567981      -1.227136   \n",
       "75%        11.019984      12.650738      11.557109      11.912694   \n",
       "max     13238.351861    7083.141950   13314.626411    7098.817573   \n",
       "\n",
       "                  C3             C4             P3             P4  \\\n",
       "count  359500.000000  359500.000000  359500.000000  359500.000000   \n",
       "mean        0.184159       0.051289       0.195124       0.057817   \n",
       "std       210.617800      75.700513     210.729811      75.046508   \n",
       "min     -3747.302488   -3142.457913   -3915.868622   -3127.972760   \n",
       "25%       -12.124318     -13.172724     -12.444381     -13.946328   \n",
       "50%        -0.002140      -0.659338       0.101780      -0.463634   \n",
       "75%        12.120037      12.166884      12.647940      13.177680   \n",
       "max     13153.850000    7106.944331   13213.300000    7266.232520   \n",
       "\n",
       "                  O1             O2             F7             F8  \\\n",
       "count  359500.000000  359500.000000  359500.000000  359500.000000   \n",
       "mean        0.123022       0.050712       0.194127       0.054478   \n",
       "std       209.203399      74.556884     215.776242      81.823471   \n",
       "min     -3654.060000   -3138.822738   -3921.950000   -3150.025882   \n",
       "25%       -10.258525     -11.382950     -13.655690     -15.170284   \n",
       "50%         0.250469      -0.381905      -0.501765      -1.632871   \n",
       "75%        10.503147      10.933455      12.126004      13.006424   \n",
       "max     12735.869765    7158.783527   13318.636921    7163.908765   \n",
       "\n",
       "                  T3             T4             T5             T6  \\\n",
       "count  359500.000000  359500.000000  359500.000000  359500.000000   \n",
       "mean        0.195113       0.039941       0.232864       0.048647   \n",
       "std       215.572394      85.051901     213.297812      75.486350   \n",
       "min     -3945.377697   -3172.661118   -3659.306350   -3091.622748   \n",
       "25%       -11.614366     -12.215077     -10.953978     -12.770812   \n",
       "50%         0.189284      -0.737982       0.242878      -0.394971   \n",
       "75%        11.730632      11.210774      11.179342      12.141595   \n",
       "max     13243.885393    7129.367898   13276.850000    7439.092374   \n",
       "\n",
       "                  Fz             Cz             Pz  \n",
       "count  359500.000000  359500.000000  359500.000000  \n",
       "mean       -0.047536      -0.042587      -0.073291  \n",
       "std       115.621356     124.114375     102.593971  \n",
       "min     -6484.540000   -6464.997519   -6451.840000  \n",
       "25%        -9.196294     -11.247351      -8.868986  \n",
       "50%        -0.717139       0.013186      -0.114335  \n",
       "75%         8.193159      11.566204       8.942202  \n",
       "max      2932.495570    3118.304519    3440.011058  "
      ]
     },
     "execution_count": 9,
     "metadata": {},
     "output_type": "execute_result"
    }
   ],
   "source": [
    "data = raw['data'][0].T\n",
    "df = raw.to_data_frame()\n",
    "df = df.drop(['time'], axis=1)\n",
    "\n",
    "final_columns = list(df.columns)\n",
    "final_columns.append('mark')\n",
    "final_columns\n",
    "\n",
    "df.describe()"
   ]
  },
  {
   "cell_type": "markdown",
   "metadata": {},
   "source": [
    "**PSD and filtering**"
   ]
  },
  {
   "cell_type": "code",
   "execution_count": 10,
   "metadata": {},
   "outputs": [
    {
     "name": "stdout",
     "output_type": "stream",
     "text": [
      "Effective window size : 4.096 (s)\n",
      "Plotting power spectral density (dB=True).\n"
     ]
    },
    {
     "name": "stderr",
     "output_type": "stream",
     "text": [
      "/tmp/ipykernel_6635/4108630121.py:1: FutureWarning: The value of `amplitude='auto'` will be removed in MNE 1.8.0, and the new default will be `amplitude=False`.\n",
      "  raw.compute_psd().plot()\n",
      "/tmp/ipykernel_6635/4108630121.py:1: RuntimeWarning: Channel locations not available. Disabling spatial colors.\n",
      "  raw.compute_psd().plot()\n",
      "/home/delta_c/.local/lib/python3.12/site-packages/mne/viz/utils.py:167: UserWarning: FigureCanvasAgg is non-interactive, and thus cannot be shown\n",
      "  (fig or plt).show(**kwargs)\n"
     ]
    },
    {
     "data": {
      "image/png": "[encoded data removed]",
      "text/plain": [
       "<MNELineFigure size 1000x350 with 1 Axes>"
      ]
     },
     "execution_count": 10,
     "metadata": {},
     "output_type": "execute_result"
    }
   ],
   "source": [
    "raw.compute_psd().plot()"
   ]
  },
  {
   "cell_type": "markdown",
   "metadata": {},
   "source": [
    "# Events searching"
   ]
  },
  {
   "cell_type": "code",
   "execution_count": 11,
   "metadata": {},
   "outputs": [
    {
     "name": "stdout",
     "output_type": "stream",
     "text": [
      "Used Annotations descriptions: [np.str_('pointPolySomnographyPatientLieDownSpine'), np.str_('Закрывание глаз (testUser)'), np.str_('Открывание глаз (testUser)'), np.str_('Фоновая запись (testUser)')]\n"
     ]
    },
    {
     "data": {
      "text/plain": [
       "[[np.int64(7548), np.int64(1)],\n",
       " [np.int64(17072), np.int64(3)],\n",
       " [np.int64(63872), np.int64(2)],\n",
       " [np.int64(154144), np.int64(3)],\n",
       " [np.int64(196000), np.int64(2)],\n",
       " [np.int64(323936), np.int64(3)]]"
      ]
     },
     "execution_count": 11,
     "metadata": {},
     "output_type": "execute_result"
    }
   ],
   "source": [
    "raw_events = mne.events_from_annotations(raw)\n",
    "\n",
    "events_from_raw = []\n",
    "for event in raw_events[0][1:-1]:\n",
    "    events_from_raw.append([event[0], event[-1]])\n",
    "\n",
    "events_from_raw"
   ]
  },
  {
   "cell_type": "code",
   "execution_count": 12,
   "metadata": {},
   "outputs": [
    {
     "data": {
      "text/plain": [
       "[[17072, 1],\n",
       " [17572, 1],\n",
       " [18072, 1],\n",
       " [18572, 1],\n",
       " [19072, 1],\n",
       " [19572, 1],\n",
       " [20072, 1],\n",
       " [20572, 1],\n",
       " [21072, 1],\n",
       " [21572, 1],\n",
       " [22072, 1],\n",
       " [22572, 1],\n",
       " [23072, 1],\n",
       " [23572, 1],\n",
       " [24072, 1],\n",
       " [24572, 1],\n",
       " [25072, 1],\n",
       " [25572, 1],\n",
       " [26072, 1],\n",
       " [26572, 1],\n",
       " [27072, 1],\n",
       " [27572, 1],\n",
       " [28072, 1],\n",
       " [28572, 1],\n",
       " [29072, 1],\n",
       " [29572, 1],\n",
       " [30072, 1],\n",
       " [30572, 1],\n",
       " [31072, 1],\n",
       " [31572, 1],\n",
       " [32072, 1],\n",
       " [32572, 1],\n",
       " [33072, 1],\n",
       " [33572, 1],\n",
       " [34072, 1],\n",
       " [34572, 1],\n",
       " [35072, 1],\n",
       " [35572, 1],\n",
       " [36072, 1],\n",
       " [36572, 1],\n",
       " [37072, 1],\n",
       " [37572, 1],\n",
       " [38072, 1],\n",
       " [38572, 1],\n",
       " [39072, 1],\n",
       " [39572, 1],\n",
       " [40072, 1],\n",
       " [40572, 1],\n",
       " [41072, 1],\n",
       " [41572, 1],\n",
       " [42072, 1],\n",
       " [42572, 1],\n",
       " [43072, 1],\n",
       " [43572, 1],\n",
       " [44072, 1],\n",
       " [44572, 1],\n",
       " [45072, 1],\n",
       " [45572, 1],\n",
       " [46072, 1],\n",
       " [46572, 1],\n",
       " [47072, 1],\n",
       " [154144, 2],\n",
       " [154644, 2],\n",
       " [155144, 2],\n",
       " [155644, 2],\n",
       " [156144, 2],\n",
       " [156644, 2],\n",
       " [157144, 2],\n",
       " [157644, 2],\n",
       " [158144, 2],\n",
       " [158644, 2],\n",
       " [159144, 2],\n",
       " [159644, 2],\n",
       " [160144, 2],\n",
       " [160644, 2],\n",
       " [161144, 2],\n",
       " [161644, 2],\n",
       " [162144, 2],\n",
       " [162644, 2],\n",
       " [163144, 2],\n",
       " [163644, 2],\n",
       " [164144, 2],\n",
       " [164644, 2],\n",
       " [165144, 2],\n",
       " [165644, 2],\n",
       " [166144, 2],\n",
       " [166644, 2],\n",
       " [167144, 2],\n",
       " [167644, 2],\n",
       " [168144, 2],\n",
       " [168644, 2],\n",
       " [169144, 2],\n",
       " [169644, 2],\n",
       " [170144, 2],\n",
       " [170644, 2],\n",
       " [171144, 2],\n",
       " [171644, 2],\n",
       " [172144, 2],\n",
       " [172644, 2],\n",
       " [173144, 2],\n",
       " [173644, 2],\n",
       " [174144, 2],\n",
       " [174644, 2],\n",
       " [175144, 2],\n",
       " [175644, 2],\n",
       " [176144, 2],\n",
       " [176644, 2],\n",
       " [177144, 2],\n",
       " [177644, 2],\n",
       " [178144, 2],\n",
       " [178644, 2],\n",
       " [179144, 2],\n",
       " [179644, 2],\n",
       " [180144, 2],\n",
       " [180644, 2],\n",
       " [181144, 2],\n",
       " [181644, 2],\n",
       " [182144, 2],\n",
       " [182644, 2],\n",
       " [183144, 2],\n",
       " [183644, 2],\n",
       " [184144, 2]]"
      ]
     },
     "execution_count": 12,
     "metadata": {},
     "output_type": "execute_result"
    }
   ],
   "source": [
    "events = []\n",
    "\n",
    "mark_l = list(range(17072, 17072 + int(60.1 * 500), 500))\n",
    "mark_r = list(range(154144, 154144 + int(60.1 * 500), 500))\n",
    "for stamp in mark_l:\n",
    "    events.append([stamp, 1])\n",
    "for stamp in mark_r:\n",
    "    events.append([stamp, 2])\n",
    "\n",
    "events"
   ]
  },
  {
   "cell_type": "markdown",
   "metadata": {},
   "source": [
    "# Segmentation"
   ]
  },
  {
   "cell_type": "code",
   "execution_count": 13,
   "metadata": {},
   "outputs": [
    {
     "data": {
      "text/plain": [
       "100"
      ]
     },
     "execution_count": 13,
     "metadata": {},
     "output_type": "execute_result"
    }
   ],
   "source": [
    "sample_rate = raw.info['sfreq']\n",
    "win = np.arange(int(0.0 * sample_rate), int(0.2 * sample_rate))\n",
    "len(win)"
   ]
  },
  {
   "cell_type": "code",
   "execution_count": 14,
   "metadata": {},
   "outputs": [],
   "source": [
    "trials = []\n",
    "\n",
    "for event in events:\n",
    "    for i in win:\n",
    "        row = []\n",
    "        for j in range(20):\n",
    "            if j < 19:\n",
    "                row.append(data[event[0] + i][j] * 1e6)\n",
    "            else:\n",
    "                row.append(event[1])\n",
    "        trials.append(row)\n",
    "\n",
    "trials = np.array(trials)\n",
    "\n",
    "trials_df = pd.DataFrame(trials, columns=final_columns)"
   ]
  },
  {
   "cell_type": "code",
   "execution_count": 56,
   "metadata": {},
   "outputs": [],
   "source": [
    "dataset_l:np.ndarray = trials[:6100]\n",
    "dataset_l:np.ndarray = np.delete(dataset_l, np.s_[-1], axis=1)\n",
    "\n",
    "dataset_r:np.ndarray = trials[6100:]\n",
    "dataset_r:np.ndarray = np.delete(dataset_r, np.s_[-1], axis=1)\n",
    "\n",
    "windows_l:np.ndarray = dataset_l.T.reshape(19, 100, 61)\n",
    "y_l:np.ndarray = np.zeros((61, 1))\n",
    "\n",
    "windows_r:np.ndarray = dataset_r.T.reshape(19, 100, 61)\n",
    "y_r:np.ndarray = np.ones((61, 1))"
   ]
  },
  {
   "cell_type": "markdown",
   "metadata": {},
   "source": [
    "# Logvar fuction and computing variances"
   ]
  },
  {
   "cell_type": "code",
   "execution_count": 116,
   "metadata": {},
   "outputs": [],
   "source": [
    "def logvar(x, axis=0):\n",
    "    return np.log(np.var(x, axis=axis))"
   ]
  },
  {
   "cell_type": "code",
   "execution_count": 17,
   "metadata": {},
   "outputs": [],
   "source": [
    "variances = []\n",
    "\n",
    "trials_df_l = trials_df[trials_df['mark'] == 1]\n",
    "trials_df_r = trials_df[trials_df['mark'] == 2]\n",
    "\n",
    "l_var = []\n",
    "for col in final_columns[:-1]:\n",
    "    l_var.append(logvar(trials_df_l[col]))\n",
    "l_var.append(1.0)\n",
    "\n",
    "variances.append(l_var)\n",
    "\n",
    "r_var = []\n",
    "for col in final_columns[:-1]:\n",
    "    r_var.append(logvar(trials_df_r[col]))\n",
    "r_var.append(2.0)\n",
    "\n",
    "variances.append(r_var)"
   ]
  },
  {
   "cell_type": "code",
   "execution_count": 18,
   "metadata": {},
   "outputs": [
    {
     "data": {
      "text/plain": [
       "FP1    -0.057528\n",
       "FP2    -0.257527\n",
       "F3      0.181321\n",
       "F4     -0.194844\n",
       "C3      0.153904\n",
       "C4     -0.164544\n",
       "P3      0.081965\n",
       "P4     -0.142431\n",
       "O1      0.185493\n",
       "O2     -0.115265\n",
       "F7      0.326064\n",
       "F8     -0.042507\n",
       "T3      0.081123\n",
       "T4      0.019215\n",
       "T5      0.004378\n",
       "T6     -0.100383\n",
       "Fz     -0.154836\n",
       "Cz     -0.662446\n",
       "Pz     -0.214768\n",
       "mark   -1.000000\n",
       "dtype: float64"
      ]
     },
     "execution_count": 18,
     "metadata": {},
     "output_type": "execute_result"
    }
   ],
   "source": [
    "variances = pd.DataFrame(variances, columns=final_columns)\n",
    "\n",
    "variances.iloc[0] - variances.iloc[1]"
   ]
  },
  {
   "cell_type": "code",
   "execution_count": 58,
   "metadata": {},
   "outputs": [
    {
     "data": {
      "image/png": "[encoded data removed]",
      "text/plain": [
       "<Figure size 640x480 with 2 Axes>"
      ]
     },
     "metadata": {},
     "output_type": "display_data"
    }
   ],
   "source": [
    "f1, Pxx_den1 = signal.welch(windows_l[4, :, :].reshape(6100,), sample_rate, nperseg=256)\n",
    "f2, Pxx_den2 = signal.welch(windows_r[4, :, :].reshape(6100,), sample_rate, nperseg=256)\n",
    "\n",
    "f1_2, Pxx_den1_2 = signal.welch(trials_df_l['C4'], sample_rate, nperseg=256)\n",
    "f2_2, Pxx_den2_2 = signal.welch(trials_df_r['C4'], sample_rate, nperseg=256)\n",
    "\n",
    "fig, ax = plt.subplots(2)\n",
    "\n",
    "ax[0].semilogy(f1, Pxx_den1, alpha=0.5)\n",
    "ax[0].semilogy(f2, Pxx_den2, c='red', alpha=0.5)\n",
    "\n",
    "\"\"\"ax[0].xlabel('frequency [Hz]')\n",
    "ax[0].ylabel('PSD $[V^2/Hz]$')\"\"\"\n",
    "\n",
    "ax[1].semilogy(f1_2, Pxx_den1_2, alpha=0.5)\n",
    "ax[1].semilogy(f2_2, Pxx_den2_2, c='red', alpha=0.5)\n",
    "\n",
    "\"\"\"ax[1].xlabel('frequency [Hz]')\n",
    "ax[1].ylabel('PSD $[V^2/Hz]$')\"\"\"\n",
    "\n",
    "plt.savefig('holy_c.jpg')\n",
    "plt.show()"
   ]
  },
  {
   "cell_type": "markdown",
   "metadata": {},
   "source": [
    "# CSP and postprocessing"
   ]
  },
  {
   "cell_type": "code",
   "execution_count": 60,
   "metadata": {},
   "outputs": [],
   "source": [
    "def bandpass(trials, lo, hi, sample_rate):\n",
    "    '''\n",
    "    Designs and applies a bandpass filter to the signal.\n",
    "    \n",
    "    Parameters\n",
    "    ----------\n",
    "    trials : 3d-array (channels x samples x trials)\n",
    "        The EEGsignal\n",
    "    lo : float\n",
    "        Lower frequency bound (in Hz)\n",
    "    hi : float\n",
    "        Upper frequency bound (in Hz)\n",
    "    sample_rate : float\n",
    "        Sample rate of the signal (in Hz)\n",
    "    \n",
    "    Returns\n",
    "    -------\n",
    "    trials_filt : 3d-array (channels x samples x trials)\n",
    "        The bandpassed signal\n",
    "    '''\n",
    "\n",
    "    # The iirfilter() function takes the filter order: higher numbers mean a sharper frequency cutoff,\n",
    "    # but the resulting signal might be shifted in time, lower numbers mean a soft frequency cutoff,\n",
    "    # but the resulting signal less distorted in time. It also takes the lower and upper frequency bounds\n",
    "    # to pass, divided by the niquist frequency, which is the sample rate divided by 2:\n",
    "    a, b = scipy.signal.iirfilter(6, [lo/(sample_rate/2.0), hi/(sample_rate/2.0)])\n",
    "\n",
    "    # Applying the filter to each trial\n",
    "    ntrials = trials.shape[2]\n",
    "    trials_filt = np.zeros((trials.shape[0], trials.shape[1], ntrials))\n",
    "    for i in range(ntrials):\n",
    "        trials_filt[:,:,i] = scipy.signal.filtfilt(a, b, trials[:,:,i], axis=1)\n",
    "    \n",
    "    return trials_filt"
   ]
  },
  {
   "cell_type": "code",
   "execution_count": 63,
   "metadata": {},
   "outputs": [],
   "source": [
    "def cov(trials):\n",
    "    ''' Calculate the covariance for each trial and return their average '''\n",
    "    ntrials = trials.shape[2]\n",
    "    covs = [ trials[:,:,i].dot(trials[:,:,i].T) / trials.shape[1] for i in range(ntrials) ]\n",
    "    return np.mean(covs, axis=0)\n",
    "\n",
    "def whitening(sigma):\n",
    "    ''' Calculate a whitening matrix for covariance matrix sigma. '''\n",
    "    U, l, _ = linalg.svd(sigma)\n",
    "    return U.dot( np.diag(l ** -0.5) )\n",
    "\n",
    "def csp(trials_r, trials_f):\n",
    "    '''\n",
    "    Calculate the CSP transformation matrix W.\n",
    "    arguments:\n",
    "        trials_r - Array (channels x samples x trials) containing right hand movement trials\n",
    "        trials_f - Array (channels x samples x trials) containing foot movement trials\n",
    "    returns:\n",
    "        Mixing matrix W\n",
    "    '''\n",
    "    cov_r = cov(trials_r)\n",
    "    cov_f = cov(trials_f)\n",
    "    P = whitening(cov_r + cov_f)\n",
    "    B, _, _ = linalg.svd( P.T.dot(cov_f).dot(P) )\n",
    "    W = P.dot(B)\n",
    "    return W\n",
    "\n",
    "def apply_mix(W, trials):\n",
    "    ''' Apply a mixing matrix to each trial (basically multiply W with the EEG signal matrix)'''\n",
    "    ntrials = trials.shape[2]\n",
    "    nchannels = trials.shape[0]\n",
    "    nsamples = trials.shape[1]\n",
    "    trials_csp = np.zeros((nchannels, nsamples, ntrials))\n",
    "    for i in range(ntrials):\n",
    "        trials_csp[:,:,i] = W.T.dot(trials[:,:,i])\n",
    "    return trials_csp"
   ]
  },
  {
   "cell_type": "code",
   "execution_count": 94,
   "metadata": {},
   "outputs": [],
   "source": [
    "trials_filt = {'left': bandpass(windows_l, 2, 15, sample_rate),\n",
    "               'right': bandpass(windows_r, 2, 15, sample_rate)}"
   ]
  },
  {
   "cell_type": "code",
   "execution_count": 95,
   "metadata": {},
   "outputs": [],
   "source": [
    "from matplotlib import mlab\n",
    "\n",
    "def psd(trials):\n",
    "    '''\n",
    "    Calculates for each trial the Power Spectral Density (PSD).\n",
    "    \n",
    "    Parameters\n",
    "    ----------\n",
    "    trials : 3d-array (channels x samples x trials)\n",
    "        The EEG signal\n",
    "    \n",
    "    Returns\n",
    "    -------\n",
    "    trial_PSD : 3d-array (channels x PSD x trials)\n",
    "        the PSD for each trial.  \n",
    "    freqs : list of floats\n",
    "        Yhe frequencies for which the PSD was computed (useful for plotting later)\n",
    "    '''\n",
    "    \n",
    "    ntrials = trials.shape[2]\n",
    "    nchannels = trials.shape[0]\n",
    "    nsamples = trials.shape[1]\n",
    "    trials_PSD = np.zeros((nchannels, 51, ntrials))\n",
    "\n",
    "    # Iterate over trials and channels\n",
    "    for trial in range(ntrials):\n",
    "        for ch in range(nchannels):\n",
    "            # Calculate the PSD\n",
    "            (PSD, freqs) = mlab.psd(trials[ch,:,trial], NFFT=int(nsamples), Fs=sample_rate)\n",
    "            trials_PSD[ch, :, trial] = PSD.ravel()\n",
    "                \n",
    "    return trials_PSD, freqs"
   ]
  },
  {
   "cell_type": "code",
   "execution_count": 97,
   "metadata": {},
   "outputs": [],
   "source": [
    "def plot_psd(trials_PSD, freqs, chan_ind, chan_lab=None, maxy=None):\n",
    "    '''\n",
    "    Plots PSD data calculated with psd().\n",
    "    \n",
    "    Parameters\n",
    "    ----------\n",
    "    trials : 3d-array\n",
    "        The PSD data, as returned by psd()\n",
    "    freqs : list of floats\n",
    "        The frequencies for which the PSD is defined, as returned by psd() \n",
    "    chan_ind : list of integers\n",
    "        The indices of the channels to plot\n",
    "    chan_lab : list of strings\n",
    "        (optional) List of names for each channel\n",
    "    maxy : float\n",
    "        (optional) Limit the y-axis to this value\n",
    "    '''\n",
    "    plt.figure(figsize=(12,5))\n",
    "    \n",
    "    nchans = len(chan_ind)\n",
    "    \n",
    "    # Maximum of 3 plots per row\n",
    "    nrows = int(np.ceil(nchans / 3))\n",
    "    ncols = min(3, nchans)\n",
    "    \n",
    "    # Enumerate over the channels\n",
    "    for i,ch in enumerate(chan_ind):\n",
    "        # Figure out which subplot to draw to\n",
    "        plt.subplot(nrows,ncols,i+1)\n",
    "    \n",
    "        # Plot the PSD for each class\n",
    "        for cl in trials_filt.keys():\n",
    "            plt.plot(freqs, np.mean(trials_PSD[cl][ch,:,:], axis=1), label=cl)\n",
    "    \n",
    "        # All plot decoration below...\n",
    "        \n",
    "        plt.xlim(1,30)\n",
    "        \n",
    "        if maxy != None:\n",
    "            plt.ylim(0,maxy)\n",
    "    \n",
    "        plt.grid()\n",
    "    \n",
    "        plt.xlabel('Frequency (Hz)')\n",
    "        \n",
    "        if chan_lab == None:\n",
    "            plt.title('Channel %d' % (ch+1))\n",
    "        else:\n",
    "            plt.title(chan_lab[i])\n",
    "\n",
    "        plt.legend()\n",
    "        \n",
    "    plt.tight_layout()\n",
    "    plt.show()"
   ]
  },
  {
   "cell_type": "code",
   "execution_count": 98,
   "metadata": {},
   "outputs": [],
   "source": [
    "psd_r, freqs = psd(trials_filt['left'])\n",
    "psd_f, freqs = psd(trials_filt['right'])\n",
    "trials_PSD = {'left': psd_r, 'right': psd_f}"
   ]
  },
  {
   "cell_type": "code",
   "execution_count": 100,
   "metadata": {},
   "outputs": [
    {
     "data": {
      "image/png": "[encoded data removed]",
      "text/plain": [
       "<Figure size 1200x500 with 3 Axes>"
      ]
     },
     "metadata": {},
     "output_type": "display_data"
    }
   ],
   "source": [
    "plot_psd(\n",
    "    trials_PSD,\n",
    "    freqs,\n",
    "    [4, 17, 5],\n",
    "    chan_lab=['left', 'center', 'right'],\n",
    "    maxy=20\n",
    ")"
   ]
  },
  {
   "cell_type": "code",
   "execution_count": 106,
   "metadata": {},
   "outputs": [],
   "source": [
    "W = csp(trials_filt['left'], trials_filt['right'])\n",
    "trials_csp = {'left': apply_mix(W, trials_filt['left']),\n",
    "              'right': apply_mix(W, trials_filt['right'])}"
   ]
  },
  {
   "cell_type": "code",
   "execution_count": 117,
   "metadata": {},
   "outputs": [
    {
     "data": {
      "text/plain": [
       "{'left': array([[-3.99843319, -3.68519842, -3.47078302, ..., -4.00704225,\n",
       "         -4.3925805 , -3.52842209],\n",
       "        [-0.64042941, -1.06007414, -1.77726057, ..., -2.77610667,\n",
       "         -3.14590298, -2.82295821],\n",
       "        [-2.46988342, -2.8102318 , -2.0418585 , ..., -1.37443312,\n",
       "         -2.02774287, -1.9682454 ],\n",
       "        ...,\n",
       "        [ 0.40552505,  0.43730223,  0.51942394, ..., -3.13037414,\n",
       "         -2.08487086, -1.85226363],\n",
       "        [ 0.17658122,  0.31431601, -0.14309507, ..., -0.45341793,\n",
       "         -0.48666199, -0.40770125],\n",
       "        [-0.49781222, -0.88682038, -0.51146188, ..., -0.76404538,\n",
       "         -1.44998601, -1.59207118]]),\n",
       " 'right': array([[ 0.27171981,  0.11317216,  0.22070205, ..., -0.86537236,\n",
       "         -0.79189172, -1.00514974],\n",
       "        [-0.8582432 , -1.00574173, -0.94636832, ..., -0.28032573,\n",
       "         -0.40974892, -0.7628047 ],\n",
       "        [ 0.04396068, -0.23897116, -0.00475924, ..., -0.70381515,\n",
       "         -0.91860968, -0.45043205],\n",
       "        ...,\n",
       "        [-1.79857072, -1.79754194, -1.55898535, ..., -3.02810527,\n",
       "         -2.16659369, -1.66519854],\n",
       "        [-2.33297217, -3.1573287 , -4.02465449, ..., -1.95298807,\n",
       "         -2.05860708, -2.32056768],\n",
       "        [-4.196376  , -3.84065756, -3.76673537, ..., -3.2693977 ,\n",
       "         -1.87402344, -1.74727284]])}"
      ]
     },
     "execution_count": 117,
     "metadata": {},
     "output_type": "execute_result"
    }
   ],
   "source": [
    "trials_logvar = {'left': logvar(trials_csp['left'], axis=1),\n",
    "                 'right': logvar(trials_csp['right'], axis=1)}\n",
    "\n",
    "trials_logvar"
   ]
  },
  {
   "cell_type": "code",
   "execution_count": 110,
   "metadata": {},
   "outputs": [],
   "source": [
    "def plot_logvar(trials):\n",
    "    '''\n",
    "    Plots the log-var of each channel/component.\n",
    "    arguments:\n",
    "        trials - Dictionary containing the trials (log-vars x trials) for 2 classes.\n",
    "    '''\n",
    "    plt.figure(figsize=(12,5))\n",
    "    nchannels = trials_filt['left'].shape[0]\n",
    "\n",
    "    x0 = np.arange(nchannels)\n",
    "    x1 = np.arange(nchannels) + 0.4\n",
    "\n",
    "    y0 = np.mean(trials['left'], axis=1)\n",
    "    y1 = np.mean(trials['right'], axis=1)\n",
    "\n",
    "    plt.bar(x0, y0, width=0.5, color='b')\n",
    "    plt.bar(x1, y1, width=0.4, color='r')\n",
    "\n",
    "    plt.xlim(-0.5, nchannels+0.5)\n",
    "\n",
    "    plt.gca().yaxis.grid(True)\n",
    "    plt.title('log-var of each channel/component')\n",
    "    plt.xlabel('channels/components')\n",
    "    plt.ylabel('log-var')\n",
    "    plt.legend(['left', 'rigth'])\n",
    "    plt.show()"
   ]
  },
  {
   "cell_type": "code",
   "execution_count": 118,
   "metadata": {},
   "outputs": [
    {
     "data": {
      "image/png": "[encoded data removed]",
      "text/plain": [
       "<Figure size 1200x500 with 1 Axes>"
      ]
     },
     "metadata": {},
     "output_type": "display_data"
    }
   ],
   "source": [
    "plot_logvar(trials_logvar)"
   ]
  },
  {
   "cell_type": "code",
   "execution_count": null,
   "metadata": {},
   "outputs": [],
   "source": []
  }
 ],
 "metadata": {
  "kernelspec": {
   "display_name": "Python 3",
   "language": "python",
   "name": "python3"
  },
  "language_info": {
   "codemirror_mode": {
    "name": "ipython",
    "version": 3
   },
   "file_extension": ".py",
   "mimetype": "text/x-python",
   "name": "python",
   "nbconvert_exporter": "python",
   "pygments_lexer": "ipython3",
   "version": "3.12.5"
  }
 },
 "nbformat": 4,
 "nbformat_minor": 2
}
