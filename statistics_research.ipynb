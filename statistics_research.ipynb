{
 "cells": [
  {
   "cell_type": "code",
   "execution_count": 2,
   "metadata": {},
   "outputs": [],
   "source": [
    "import numpy as np\n",
    "import scipy\n",
    "import matplotlib.pyplot as plt\n",
    "import pandas as pd"
   ]
  },
  {
   "cell_type": "code",
   "execution_count": 3,
   "metadata": {},
   "outputs": [],
   "source": [
    "from scipy import signal\n",
    "from numpy import linalg\n",
    "from sklearn.discriminant_analysis import LinearDiscriminantAnalysis"
   ]
  },
  {
   "cell_type": "code",
   "execution_count": 4,
   "metadata": {},
   "outputs": [],
   "source": [
    "import mne"
   ]
  },
  {
   "cell_type": "code",
   "execution_count": 5,
   "metadata": {},
   "outputs": [],
   "source": [
    "from stats import logvar\n",
    "import stats"
   ]
  },
  {
   "cell_type": "markdown",
   "metadata": {},
   "source": [
    "# Loading, filtering and extracting data"
   ]
  },
  {
   "cell_type": "code",
   "execution_count": 6,
   "metadata": {},
   "outputs": [
    {
     "name": "stdout",
     "output_type": "stream",
     "text": [
      "Extracting EDF parameters from /home/delta_c/EnW/Biotech_Researches/EEG_Event_Classification/data/Dual_Aural.edf...\n",
      "EDF file detected\n",
      "Setting channel info structure...\n",
      "Creating raw.info structure...\n",
      "Reading 0 ... 359499  =      0.000 ...   718.998 secs...\n"
     ]
    },
    {
     "name": "stderr",
     "output_type": "stream",
     "text": [
      "/tmp/ipykernel_16225/3131080669.py:1: RuntimeWarning: Channel names are not unique, found duplicates for: {'SAO2'}. Applying running numbers for duplicates.\n",
      "  raw = mne.io.read_raw_edf('data/Dual_Aural.edf', preload=True)\n"
     ]
    }
   ],
   "source": [
    "raw = mne.io.read_raw_edf('data/Dual_Aural.edf', preload=True)"
   ]
  },
  {
   "cell_type": "code",
   "execution_count": 7,
   "metadata": {},
   "outputs": [
    {
     "data": {
      "text/html": [
       "<details open>\n",
       "    <summary><strong>General</strong></summary>\n",
       "    <table class=\"table table-hover table-striped table-sm table-responsive small\">\n",
       "        <tr>\n",
       "            <th>Measurement date</th>\n",
       "            \n",
       "            <td>September 09, 2024  11:41:48 GMT</td>\n",
       "            \n",
       "        </tr>\n",
       "        <tr>\n",
       "            <th>Experimenter</th>\n",
       "            \n",
       "            <td>Unknown</td>\n",
       "            \n",
       "        </tr>\n",
       "        <tr>\n",
       "            <th>Participant</th>\n",
       "            \n",
       "            \n",
       "            <td>5d106bf1-e0b7-4ff8-a364-276fbd64079f</td>\n",
       "            \n",
       "            \n",
       "        </tr>\n",
       "    </table>\n",
       "    </details>\n",
       "    <details open>\n",
       "        <summary><strong>Channels</strong></summary>\n",
       "        <table class=\"table table-hover table-striped table-sm table-responsive small\">\n",
       "            <tr>\n",
       "                <th>Digitized points</th>\n",
       "                \n",
       "                <td>Not available</td>\n",
       "                \n",
       "            </tr>\n",
       "            <tr>\n",
       "                <th>Good channels</th>\n",
       "                <td>19 EEG</td>\n",
       "            </tr>\n",
       "            <tr>\n",
       "                <th>Bad channels</th>\n",
       "                <td>None</td>\n",
       "            </tr>\n",
       "            <tr>\n",
       "                <th>EOG channels</th>\n",
       "                <td>Not available</td>\n",
       "            </tr>\n",
       "            <tr>\n",
       "                <th>ECG channels</th>\n",
       "                <td>Not available</td>\n",
       "            </tr>\n",
       "        </table>\n",
       "        </details>\n",
       "        <details open>\n",
       "            <summary><strong>Data</strong></summary>\n",
       "            <table class=\"table table-hover table-striped table-sm table-responsive small\">\n",
       "                \n",
       "                <tr>\n",
       "                    <th>Sampling frequency</th>\n",
       "                    <td>500.00 Hz</td>\n",
       "                </tr>\n",
       "                \n",
       "                \n",
       "                <tr>\n",
       "                    <th>Highpass</th>\n",
       "                    <td>0.00 Hz</td>\n",
       "                </tr>\n",
       "                \n",
       "                \n",
       "                <tr>\n",
       "                    <th>Lowpass</th>\n",
       "                    <td>250.00 Hz</td>\n",
       "                </tr>\n",
       "                \n",
       "                \n",
       "                \n",
       "                <tr>\n",
       "                    <th>Filenames</th>\n",
       "                    <td>Dual_Aural.edf</td>\n",
       "                </tr>\n",
       "                \n",
       "                \n",
       "                <tr>\n",
       "                    <th>Duration</th>\n",
       "                    <td>00:11:59 (HH:MM:SS)</td>\n",
       "                </tr>\n",
       "                \n",
       "            </table>\n",
       "            </details>"
      ],
      "text/plain": [
       "<RawEDF | Dual_Aural.edf, 19 x 359500 (719.0 s), ~52.1 MB, data loaded>"
      ]
     },
     "execution_count": 7,
     "metadata": {},
     "output_type": "execute_result"
    }
   ],
   "source": [
    "raw.drop_channels(raw.ch_names[-5:])"
   ]
  },
  {
   "cell_type": "code",
   "execution_count": 8,
   "metadata": {},
   "outputs": [],
   "source": [
    "mapping = dict(zip(raw.ch_names, ['FP1', 'FP2', 'F3', 'F4', 'C3', 'C4', 'P3', 'P4', 'O1', 'O2', 'F7', 'F8', 'T3', 'T4', 'T5', 'T6', 'Fz', 'Cz', 'Pz']))"
   ]
  },
  {
   "cell_type": "code",
   "execution_count": 9,
   "metadata": {},
   "outputs": [
    {
     "data": {
      "text/html": [
       "<details open>\n",
       "    <summary><strong>General</strong></summary>\n",
       "    <table class=\"table table-hover table-striped table-sm table-responsive small\">\n",
       "        <tr>\n",
       "            <th>Measurement date</th>\n",
       "            \n",
       "            <td>September 09, 2024  11:41:48 GMT</td>\n",
       "            \n",
       "        </tr>\n",
       "        <tr>\n",
       "            <th>Experimenter</th>\n",
       "            \n",
       "            <td>Unknown</td>\n",
       "            \n",
       "        </tr>\n",
       "        <tr>\n",
       "            <th>Participant</th>\n",
       "            \n",
       "            \n",
       "            <td>5d106bf1-e0b7-4ff8-a364-276fbd64079f</td>\n",
       "            \n",
       "            \n",
       "        </tr>\n",
       "    </table>\n",
       "    </details>\n",
       "    <details open>\n",
       "        <summary><strong>Channels</strong></summary>\n",
       "        <table class=\"table table-hover table-striped table-sm table-responsive small\">\n",
       "            <tr>\n",
       "                <th>Digitized points</th>\n",
       "                \n",
       "                <td>Not available</td>\n",
       "                \n",
       "            </tr>\n",
       "            <tr>\n",
       "                <th>Good channels</th>\n",
       "                <td>19 EEG</td>\n",
       "            </tr>\n",
       "            <tr>\n",
       "                <th>Bad channels</th>\n",
       "                <td>None</td>\n",
       "            </tr>\n",
       "            <tr>\n",
       "                <th>EOG channels</th>\n",
       "                <td>Not available</td>\n",
       "            </tr>\n",
       "            <tr>\n",
       "                <th>ECG channels</th>\n",
       "                <td>Not available</td>\n",
       "            </tr>\n",
       "        </table>\n",
       "        </details>\n",
       "        <details open>\n",
       "            <summary><strong>Data</strong></summary>\n",
       "            <table class=\"table table-hover table-striped table-sm table-responsive small\">\n",
       "                \n",
       "                <tr>\n",
       "                    <th>Sampling frequency</th>\n",
       "                    <td>500.00 Hz</td>\n",
       "                </tr>\n",
       "                \n",
       "                \n",
       "                <tr>\n",
       "                    <th>Highpass</th>\n",
       "                    <td>0.00 Hz</td>\n",
       "                </tr>\n",
       "                \n",
       "                \n",
       "                <tr>\n",
       "                    <th>Lowpass</th>\n",
       "                    <td>250.00 Hz</td>\n",
       "                </tr>\n",
       "                \n",
       "                \n",
       "                \n",
       "                <tr>\n",
       "                    <th>Filenames</th>\n",
       "                    <td>Dual_Aural.edf</td>\n",
       "                </tr>\n",
       "                \n",
       "                \n",
       "                <tr>\n",
       "                    <th>Duration</th>\n",
       "                    <td>00:11:59 (HH:MM:SS)</td>\n",
       "                </tr>\n",
       "                \n",
       "            </table>\n",
       "            </details>"
      ],
      "text/plain": [
       "<RawEDF | Dual_Aural.edf, 19 x 359500 (719.0 s), ~52.1 MB, data loaded>"
      ]
     },
     "execution_count": 9,
     "metadata": {},
     "output_type": "execute_result"
    }
   ],
   "source": [
    "raw.rename_channels(mapping)"
   ]
  },
  {
   "cell_type": "code",
   "execution_count": 10,
   "metadata": {},
   "outputs": [],
   "source": [
    "sample_rate = raw.info['sfreq']"
   ]
  },
  {
   "cell_type": "markdown",
   "metadata": {},
   "source": [
    "**Converting into pandas dataframe (optional)**"
   ]
  },
  {
   "cell_type": "code",
   "execution_count": 11,
   "metadata": {},
   "outputs": [
    {
     "data": {
      "text/html": [
       "<div>\n",
       "<style scoped>\n",
       "    .dataframe tbody tr th:only-of-type {\n",
       "        vertical-align: middle;\n",
       "    }\n",
       "\n",
       "    .dataframe tbody tr th {\n",
       "        vertical-align: top;\n",
       "    }\n",
       "\n",
       "    .dataframe thead th {\n",
       "        text-align: right;\n",
       "    }\n",
       "</style>\n",
       "<table border=\"1\" class=\"dataframe\">\n",
       "  <thead>\n",
       "    <tr style=\"text-align: right;\">\n",
       "      <th></th>\n",
       "      <th>FP1</th>\n",
       "      <th>FP2</th>\n",
       "      <th>F3</th>\n",
       "      <th>F4</th>\n",
       "      <th>C3</th>\n",
       "      <th>C4</th>\n",
       "      <th>P3</th>\n",
       "      <th>P4</th>\n",
       "      <th>O1</th>\n",
       "      <th>O2</th>\n",
       "      <th>F7</th>\n",
       "      <th>F8</th>\n",
       "      <th>T3</th>\n",
       "      <th>T4</th>\n",
       "      <th>T5</th>\n",
       "      <th>T6</th>\n",
       "      <th>Fz</th>\n",
       "      <th>Cz</th>\n",
       "      <th>Pz</th>\n",
       "    </tr>\n",
       "  </thead>\n",
       "  <tbody>\n",
       "    <tr>\n",
       "      <th>count</th>\n",
       "      <td>359500.000000</td>\n",
       "      <td>359500.000000</td>\n",
       "      <td>359500.000000</td>\n",
       "      <td>359500.000000</td>\n",
       "      <td>359500.000000</td>\n",
       "      <td>359500.000000</td>\n",
       "      <td>359500.000000</td>\n",
       "      <td>359500.000000</td>\n",
       "      <td>359500.000000</td>\n",
       "      <td>359500.000000</td>\n",
       "      <td>359500.000000</td>\n",
       "      <td>359500.000000</td>\n",
       "      <td>359500.000000</td>\n",
       "      <td>359500.000000</td>\n",
       "      <td>359500.000000</td>\n",
       "      <td>359500.000000</td>\n",
       "      <td>359500.000000</td>\n",
       "      <td>359500.000000</td>\n",
       "      <td>359500.000000</td>\n",
       "    </tr>\n",
       "    <tr>\n",
       "      <th>mean</th>\n",
       "      <td>0.187453</td>\n",
       "      <td>0.057374</td>\n",
       "      <td>0.229305</td>\n",
       "      <td>0.064663</td>\n",
       "      <td>0.184159</td>\n",
       "      <td>0.051289</td>\n",
       "      <td>0.195124</td>\n",
       "      <td>0.057817</td>\n",
       "      <td>0.123022</td>\n",
       "      <td>0.050712</td>\n",
       "      <td>0.194127</td>\n",
       "      <td>0.054478</td>\n",
       "      <td>0.195113</td>\n",
       "      <td>0.039941</td>\n",
       "      <td>0.232864</td>\n",
       "      <td>0.048647</td>\n",
       "      <td>-0.047536</td>\n",
       "      <td>-0.042587</td>\n",
       "      <td>-0.073291</td>\n",
       "    </tr>\n",
       "    <tr>\n",
       "      <th>std</th>\n",
       "      <td>214.701533</td>\n",
       "      <td>90.628992</td>\n",
       "      <td>213.845982</td>\n",
       "      <td>77.348176</td>\n",
       "      <td>210.617800</td>\n",
       "      <td>75.700513</td>\n",
       "      <td>210.729811</td>\n",
       "      <td>75.046508</td>\n",
       "      <td>209.203399</td>\n",
       "      <td>74.556884</td>\n",
       "      <td>215.776242</td>\n",
       "      <td>81.823471</td>\n",
       "      <td>215.572394</td>\n",
       "      <td>85.051901</td>\n",
       "      <td>213.297812</td>\n",
       "      <td>75.486350</td>\n",
       "      <td>115.621356</td>\n",
       "      <td>124.114375</td>\n",
       "      <td>102.593971</td>\n",
       "    </tr>\n",
       "    <tr>\n",
       "      <th>min</th>\n",
       "      <td>-3976.961861</td>\n",
       "      <td>-3139.115887</td>\n",
       "      <td>-3821.552994</td>\n",
       "      <td>-3150.719308</td>\n",
       "      <td>-3747.302488</td>\n",
       "      <td>-3142.457913</td>\n",
       "      <td>-3915.868622</td>\n",
       "      <td>-3127.972760</td>\n",
       "      <td>-3654.060000</td>\n",
       "      <td>-3138.822738</td>\n",
       "      <td>-3921.950000</td>\n",
       "      <td>-3150.025882</td>\n",
       "      <td>-3945.377697</td>\n",
       "      <td>-3172.661118</td>\n",
       "      <td>-3659.306350</td>\n",
       "      <td>-3091.622748</td>\n",
       "      <td>-6484.540000</td>\n",
       "      <td>-6464.997519</td>\n",
       "      <td>-6451.840000</td>\n",
       "    </tr>\n",
       "    <tr>\n",
       "      <th>25%</th>\n",
       "      <td>-16.302158</td>\n",
       "      <td>-18.395770</td>\n",
       "      <td>-12.429483</td>\n",
       "      <td>-13.584834</td>\n",
       "      <td>-12.124318</td>\n",
       "      <td>-13.172724</td>\n",
       "      <td>-12.444381</td>\n",
       "      <td>-13.946328</td>\n",
       "      <td>-10.258525</td>\n",
       "      <td>-11.382950</td>\n",
       "      <td>-13.655690</td>\n",
       "      <td>-15.170284</td>\n",
       "      <td>-11.614366</td>\n",
       "      <td>-12.215077</td>\n",
       "      <td>-10.953978</td>\n",
       "      <td>-12.770812</td>\n",
       "      <td>-9.196294</td>\n",
       "      <td>-11.247351</td>\n",
       "      <td>-8.868986</td>\n",
       "    </tr>\n",
       "    <tr>\n",
       "      <th>50%</th>\n",
       "      <td>-2.115662</td>\n",
       "      <td>-2.950522</td>\n",
       "      <td>-0.567981</td>\n",
       "      <td>-1.227136</td>\n",
       "      <td>-0.002140</td>\n",
       "      <td>-0.659338</td>\n",
       "      <td>0.101780</td>\n",
       "      <td>-0.463634</td>\n",
       "      <td>0.250469</td>\n",
       "      <td>-0.381905</td>\n",
       "      <td>-0.501765</td>\n",
       "      <td>-1.632871</td>\n",
       "      <td>0.189284</td>\n",
       "      <td>-0.737982</td>\n",
       "      <td>0.242878</td>\n",
       "      <td>-0.394971</td>\n",
       "      <td>-0.717139</td>\n",
       "      <td>0.013186</td>\n",
       "      <td>-0.114335</td>\n",
       "    </tr>\n",
       "    <tr>\n",
       "      <th>75%</th>\n",
       "      <td>11.019984</td>\n",
       "      <td>12.650738</td>\n",
       "      <td>11.557109</td>\n",
       "      <td>11.912694</td>\n",
       "      <td>12.120037</td>\n",
       "      <td>12.166884</td>\n",
       "      <td>12.647940</td>\n",
       "      <td>13.177680</td>\n",
       "      <td>10.503147</td>\n",
       "      <td>10.933455</td>\n",
       "      <td>12.126004</td>\n",
       "      <td>13.006424</td>\n",
       "      <td>11.730632</td>\n",
       "      <td>11.210774</td>\n",
       "      <td>11.179342</td>\n",
       "      <td>12.141595</td>\n",
       "      <td>8.193159</td>\n",
       "      <td>11.566204</td>\n",
       "      <td>8.942202</td>\n",
       "    </tr>\n",
       "    <tr>\n",
       "      <th>max</th>\n",
       "      <td>13238.351861</td>\n",
       "      <td>7083.141950</td>\n",
       "      <td>13314.626411</td>\n",
       "      <td>7098.817573</td>\n",
       "      <td>13153.850000</td>\n",
       "      <td>7106.944331</td>\n",
       "      <td>13213.300000</td>\n",
       "      <td>7266.232520</td>\n",
       "      <td>12735.869765</td>\n",
       "      <td>7158.783527</td>\n",
       "      <td>13318.636921</td>\n",
       "      <td>7163.908765</td>\n",
       "      <td>13243.885393</td>\n",
       "      <td>7129.367898</td>\n",
       "      <td>13276.850000</td>\n",
       "      <td>7439.092374</td>\n",
       "      <td>2932.495570</td>\n",
       "      <td>3118.304519</td>\n",
       "      <td>3440.011058</td>\n",
       "    </tr>\n",
       "  </tbody>\n",
       "</table>\n",
       "</div>"
      ],
      "text/plain": [
       "                 FP1            FP2             F3             F4  \\\n",
       "count  359500.000000  359500.000000  359500.000000  359500.000000   \n",
       "mean        0.187453       0.057374       0.229305       0.064663   \n",
       "std       214.701533      90.628992     213.845982      77.348176   \n",
       "min     -3976.961861   -3139.115887   -3821.552994   -3150.719308   \n",
       "25%       -16.302158     -18.395770     -12.429483     -13.584834   \n",
       "50%        -2.115662      -2.950522      -0.567981      -1.227136   \n",
       "75%        11.019984      12.650738      11.557109      11.912694   \n",
       "max     13238.351861    7083.141950   13314.626411    7098.817573   \n",
       "\n",
       "                  C3             C4             P3             P4  \\\n",
       "count  359500.000000  359500.000000  359500.000000  359500.000000   \n",
       "mean        0.184159       0.051289       0.195124       0.057817   \n",
       "std       210.617800      75.700513     210.729811      75.046508   \n",
       "min     -3747.302488   -3142.457913   -3915.868622   -3127.972760   \n",
       "25%       -12.124318     -13.172724     -12.444381     -13.946328   \n",
       "50%        -0.002140      -0.659338       0.101780      -0.463634   \n",
       "75%        12.120037      12.166884      12.647940      13.177680   \n",
       "max     13153.850000    7106.944331   13213.300000    7266.232520   \n",
       "\n",
       "                  O1             O2             F7             F8  \\\n",
       "count  359500.000000  359500.000000  359500.000000  359500.000000   \n",
       "mean        0.123022       0.050712       0.194127       0.054478   \n",
       "std       209.203399      74.556884     215.776242      81.823471   \n",
       "min     -3654.060000   -3138.822738   -3921.950000   -3150.025882   \n",
       "25%       -10.258525     -11.382950     -13.655690     -15.170284   \n",
       "50%         0.250469      -0.381905      -0.501765      -1.632871   \n",
       "75%        10.503147      10.933455      12.126004      13.006424   \n",
       "max     12735.869765    7158.783527   13318.636921    7163.908765   \n",
       "\n",
       "                  T3             T4             T5             T6  \\\n",
       "count  359500.000000  359500.000000  359500.000000  359500.000000   \n",
       "mean        0.195113       0.039941       0.232864       0.048647   \n",
       "std       215.572394      85.051901     213.297812      75.486350   \n",
       "min     -3945.377697   -3172.661118   -3659.306350   -3091.622748   \n",
       "25%       -11.614366     -12.215077     -10.953978     -12.770812   \n",
       "50%         0.189284      -0.737982       0.242878      -0.394971   \n",
       "75%        11.730632      11.210774      11.179342      12.141595   \n",
       "max     13243.885393    7129.367898   13276.850000    7439.092374   \n",
       "\n",
       "                  Fz             Cz             Pz  \n",
       "count  359500.000000  359500.000000  359500.000000  \n",
       "mean       -0.047536      -0.042587      -0.073291  \n",
       "std       115.621356     124.114375     102.593971  \n",
       "min     -6484.540000   -6464.997519   -6451.840000  \n",
       "25%        -9.196294     -11.247351      -8.868986  \n",
       "50%        -0.717139       0.013186      -0.114335  \n",
       "75%         8.193159      11.566204       8.942202  \n",
       "max      2932.495570    3118.304519    3440.011058  "
      ]
     },
     "execution_count": 11,
     "metadata": {},
     "output_type": "execute_result"
    }
   ],
   "source": [
    "data = raw['data'][0].T\n",
    "df = raw.to_data_frame()\n",
    "df = df.drop(['time'], axis=1)\n",
    "\n",
    "final_columns = list(df.columns)\n",
    "final_columns.append('mark')\n",
    "final_columns\n",
    "\n",
    "df.describe()"
   ]
  },
  {
   "cell_type": "markdown",
   "metadata": {},
   "source": [
    "**PSD and filtering**"
   ]
  },
  {
   "cell_type": "code",
   "execution_count": 12,
   "metadata": {},
   "outputs": [
    {
     "name": "stdout",
     "output_type": "stream",
     "text": [
      "Effective window size : 4.096 (s)\n",
      "Plotting power spectral density (dB=True).\n"
     ]
    },
    {
     "name": "stderr",
     "output_type": "stream",
     "text": [
      "/tmp/ipykernel_16225/4108630121.py:1: FutureWarning: The value of `amplitude='auto'` will be removed in MNE 1.8.0, and the new default will be `amplitude=False`.\n",
      "  raw.compute_psd().plot()\n",
      "/tmp/ipykernel_16225/4108630121.py:1: RuntimeWarning: Channel locations not available. Disabling spatial colors.\n",
      "  raw.compute_psd().plot()\n",
      "/home/delta_c/.local/lib/python3.12/site-packages/mne/viz/utils.py:167: UserWarning: FigureCanvasAgg is non-interactive, and thus cannot be shown\n",
      "  (fig or plt).show(**kwargs)\n"
     ]
    },
    {
     "data": {
      "image/png": "[encoded data removed]",
      "text/plain": [
       "<MNELineFigure size 1000x350 with 1 Axes>"
      ]
     },
     "execution_count": 12,
     "metadata": {},
     "output_type": "execute_result"
    }
   ],
   "source": [
    "raw.compute_psd().plot()"
   ]
  },
  {
   "cell_type": "markdown",
   "metadata": {},
   "source": [
    "# Events searching"
   ]
  },
  {
   "cell_type": "code",
   "execution_count": 13,
   "metadata": {},
   "outputs": [
    {
     "name": "stdout",
     "output_type": "stream",
     "text": [
      "Used Annotations descriptions: [np.str_('pointPolySomnographyPatientLieDownSpine'), np.str_('Закрывание глаз (testUser)'), np.str_('Открывание глаз (testUser)'), np.str_('Фоновая запись (testUser)')]\n"
     ]
    },
    {
     "data": {
      "text/plain": [
       "[[np.int64(7548), np.int64(1)],\n",
       " [np.int64(17072), np.int64(3)],\n",
       " [np.int64(63872), np.int64(2)],\n",
       " [np.int64(154144), np.int64(3)],\n",
       " [np.int64(196000), np.int64(2)],\n",
       " [np.int64(323936), np.int64(3)]]"
      ]
     },
     "execution_count": 13,
     "metadata": {},
     "output_type": "execute_result"
    }
   ],
   "source": [
    "raw_events = mne.events_from_annotations(raw)\n",
    "\n",
    "events_from_raw = []\n",
    "for event in raw_events[0][1:-1]:\n",
    "    events_from_raw.append([event[0], event[-1]])\n",
    "\n",
    "events_from_raw"
   ]
  },
  {
   "cell_type": "code",
   "execution_count": 14,
   "metadata": {},
   "outputs": [
    {
     "data": {
      "text/plain": [
       "[[17072, 0],\n",
       " [17572, 0],\n",
       " [18072, 0],\n",
       " [18572, 0],\n",
       " [19072, 0],\n",
       " [19572, 0],\n",
       " [20072, 0],\n",
       " [20572, 0],\n",
       " [21072, 0],\n",
       " [21572, 0],\n",
       " [22072, 0],\n",
       " [22572, 0],\n",
       " [23072, 0],\n",
       " [23572, 0],\n",
       " [24072, 0],\n",
       " [24572, 0],\n",
       " [25072, 0],\n",
       " [25572, 0],\n",
       " [26072, 0],\n",
       " [26572, 0],\n",
       " [27072, 0],\n",
       " [27572, 0],\n",
       " [28072, 0],\n",
       " [28572, 0],\n",
       " [29072, 0],\n",
       " [29572, 0],\n",
       " [30072, 0],\n",
       " [30572, 0],\n",
       " [31072, 0],\n",
       " [31572, 0],\n",
       " [32072, 0],\n",
       " [32572, 0],\n",
       " [33072, 0],\n",
       " [33572, 0],\n",
       " [34072, 0],\n",
       " [34572, 0],\n",
       " [35072, 0],\n",
       " [35572, 0],\n",
       " [36072, 0],\n",
       " [36572, 0],\n",
       " [37072, 0],\n",
       " [37572, 0],\n",
       " [38072, 0],\n",
       " [38572, 0],\n",
       " [39072, 0],\n",
       " [39572, 0],\n",
       " [40072, 0],\n",
       " [40572, 0],\n",
       " [41072, 0],\n",
       " [41572, 0],\n",
       " [42072, 0],\n",
       " [42572, 0],\n",
       " [43072, 0],\n",
       " [43572, 0],\n",
       " [44072, 0],\n",
       " [44572, 0],\n",
       " [45072, 0],\n",
       " [45572, 0],\n",
       " [46072, 0],\n",
       " [46572, 0],\n",
       " [47072, 0],\n",
       " [154144, 1],\n",
       " [154644, 1],\n",
       " [155144, 1],\n",
       " [155644, 1],\n",
       " [156144, 1],\n",
       " [156644, 1],\n",
       " [157144, 1],\n",
       " [157644, 1],\n",
       " [158144, 1],\n",
       " [158644, 1],\n",
       " [159144, 1],\n",
       " [159644, 1],\n",
       " [160144, 1],\n",
       " [160644, 1],\n",
       " [161144, 1],\n",
       " [161644, 1],\n",
       " [162144, 1],\n",
       " [162644, 1],\n",
       " [163144, 1],\n",
       " [163644, 1],\n",
       " [164144, 1],\n",
       " [164644, 1],\n",
       " [165144, 1],\n",
       " [165644, 1],\n",
       " [166144, 1],\n",
       " [166644, 1],\n",
       " [167144, 1],\n",
       " [167644, 1],\n",
       " [168144, 1],\n",
       " [168644, 1],\n",
       " [169144, 1],\n",
       " [169644, 1],\n",
       " [170144, 1],\n",
       " [170644, 1],\n",
       " [171144, 1],\n",
       " [171644, 1],\n",
       " [172144, 1],\n",
       " [172644, 1],\n",
       " [173144, 1],\n",
       " [173644, 1],\n",
       " [174144, 1],\n",
       " [174644, 1],\n",
       " [175144, 1],\n",
       " [175644, 1],\n",
       " [176144, 1],\n",
       " [176644, 1],\n",
       " [177144, 1],\n",
       " [177644, 1],\n",
       " [178144, 1],\n",
       " [178644, 1],\n",
       " [179144, 1],\n",
       " [179644, 1],\n",
       " [180144, 1],\n",
       " [180644, 1],\n",
       " [181144, 1],\n",
       " [181644, 1],\n",
       " [182144, 1],\n",
       " [182644, 1],\n",
       " [183144, 1],\n",
       " [183644, 1],\n",
       " [184144, 1]]"
      ]
     },
     "execution_count": 14,
     "metadata": {},
     "output_type": "execute_result"
    }
   ],
   "source": [
    "events = []\n",
    "\n",
    "mark_l = list(range(17072, 17072 + int(60.1 * 500), 500))\n",
    "mark_r = list(range(154144, 154144 + int(60.1 * 500), 500))\n",
    "for stamp in mark_l:\n",
    "    events.append([stamp, 0])\n",
    "for stamp in mark_r:\n",
    "    events.append([stamp, 1])\n",
    "\n",
    "events"
   ]
  },
  {
   "cell_type": "markdown",
   "metadata": {},
   "source": [
    "# Segmentation"
   ]
  },
  {
   "cell_type": "code",
   "execution_count": 15,
   "metadata": {},
   "outputs": [
    {
     "data": {
      "text/plain": [
       "100"
      ]
     },
     "execution_count": 15,
     "metadata": {},
     "output_type": "execute_result"
    }
   ],
   "source": [
    "sample_rate = raw.info['sfreq']\n",
    "win = np.arange(int(0.02 * sample_rate), int(0.22 * sample_rate))\n",
    "len(win)"
   ]
  },
  {
   "cell_type": "code",
   "execution_count": 16,
   "metadata": {},
   "outputs": [],
   "source": [
    "trials = []\n",
    "\n",
    "for event in events:\n",
    "    for i in win:\n",
    "        row = []\n",
    "        for j in range(20):\n",
    "            if j < 19:\n",
    "                row.append(data[event[0] + i][j] * 1e6)\n",
    "            else:\n",
    "                row.append(event[1])\n",
    "        trials.append(row)\n",
    "\n",
    "trials = np.array(trials)\n",
    "\n",
    "trials_df = pd.DataFrame(trials, columns=final_columns)"
   ]
  },
  {
   "cell_type": "code",
   "execution_count": 17,
   "metadata": {},
   "outputs": [],
   "source": [
    "dataset_l:np.ndarray = trials[:6100]\n",
    "dataset_l:np.ndarray = np.delete(dataset_l, np.s_[-1], axis=1)\n",
    "\n",
    "dataset_r:np.ndarray = trials[6100:]\n",
    "dataset_r:np.ndarray = np.delete(dataset_r, np.s_[-1], axis=1)\n",
    "\n",
    "windows_l:np.ndarray = dataset_l.T.reshape(19, 100, 61)\n",
    "y_l:np.ndarray = np.zeros((61, 1))\n",
    "\n",
    "windows_r:np.ndarray = dataset_r.T.reshape(19, 100, 61)\n",
    "y_r:np.ndarray = np.ones((61, 1))"
   ]
  },
  {
   "cell_type": "markdown",
   "metadata": {},
   "source": [
    "# Logvar fuction and computing variances"
   ]
  },
  {
   "cell_type": "code",
   "execution_count": 18,
   "metadata": {},
   "outputs": [],
   "source": [
    "variances = []\n",
    "\n",
    "trials_df_l = trials_df[trials_df['mark'] == 0]\n",
    "trials_df_r = trials_df[trials_df['mark'] == 1]\n",
    "\n",
    "l_var = []\n",
    "for col in final_columns[:-1]:\n",
    "    l_var.append(logvar(trials_df_l[col]))\n",
    "l_var.append(0.0)\n",
    "\n",
    "variances.append(l_var)\n",
    "\n",
    "r_var = []\n",
    "for col in final_columns[:-1]:\n",
    "    r_var.append(logvar(trials_df_r[col]))\n",
    "r_var.append(1.0)\n",
    "\n",
    "variances.append(r_var)"
   ]
  },
  {
   "cell_type": "code",
   "execution_count": 19,
   "metadata": {},
   "outputs": [
    {
     "data": {
      "text/plain": [
       "FP1     0.021101\n",
       "FP2    -0.174098\n",
       "F3      0.208765\n",
       "F4     -0.229962\n",
       "C3      0.116953\n",
       "C4     -0.217047\n",
       "P3      0.034289\n",
       "P4     -0.198959\n",
       "O1      0.133610\n",
       "O2     -0.150041\n",
       "F7      0.312310\n",
       "F8     -0.022295\n",
       "T3      0.023038\n",
       "T4     -0.032449\n",
       "T5     -0.049240\n",
       "T6     -0.137407\n",
       "Fz     -0.084883\n",
       "Cz     -0.619336\n",
       "Pz     -0.262278\n",
       "mark   -1.000000\n",
       "dtype: float64"
      ]
     },
     "execution_count": 19,
     "metadata": {},
     "output_type": "execute_result"
    }
   ],
   "source": [
    "variances = pd.DataFrame(variances, columns=final_columns)\n",
    "\n",
    "variances.iloc[0] - variances.iloc[1]"
   ]
  },
  {
   "cell_type": "code",
   "execution_count": 28,
   "metadata": {},
   "outputs": [
    {
     "data": {
      "image/png": "[encoded data removed]",
      "text/plain": [
       "<Figure size 640x480 with 2 Axes>"
      ]
     },
     "metadata": {},
     "output_type": "display_data"
    }
   ],
   "source": [
    "f1, Pxx_den1 = signal.welch(windows_l[2, :, :].reshape(6100,), sample_rate, nperseg=256)\n",
    "f2, Pxx_den2 = signal.welch(windows_r[2, :, :].reshape(6100,), sample_rate, nperseg=256)\n",
    "\n",
    "f1_2, Pxx_den1_2 = signal.welch(windows_l[3, :, :].reshape(6100,), sample_rate, nperseg=256)\n",
    "f2_2, Pxx_den2_2 = signal.welch(windows_r[3, :, :].reshape(6100,), sample_rate, nperseg=256)\n",
    "\n",
    "fig, ax = plt.subplots(2)\n",
    "\n",
    "ax[0].semilogy(f1, Pxx_den1, alpha=0.5)\n",
    "ax[0].semilogy(f2, Pxx_den2, c='red', alpha=0.5)\n",
    "\n",
    "\"\"\"ax[0].xlabel('frequency [Hz]')\n",
    "ax[0].ylabel('PSD $[V^2/Hz]$')\"\"\"\n",
    "\n",
    "ax[1].semilogy(f1_2, Pxx_den1_2, alpha=0.5)\n",
    "ax[1].semilogy(f2_2, Pxx_den2_2, c='red', alpha=0.5)\n",
    "\n",
    "\"\"\"ax[1].xlabel('frequency [Hz]')\n",
    "ax[1].ylabel('PSD $[V^2/Hz]$')\"\"\"\n",
    "\n",
    "plt.show()"
   ]
  },
  {
   "cell_type": "markdown",
   "metadata": {},
   "source": [
    "# CSP and postprocessing"
   ]
  },
  {
   "cell_type": "code",
   "execution_count": 21,
   "metadata": {},
   "outputs": [],
   "source": [
    "trials_filt = {'left': stats.bandpass(windows_l, 2, 15, sample_rate),\n",
    "               'right': stats.bandpass(windows_r, 2, 15, sample_rate)}"
   ]
  },
  {
   "cell_type": "code",
   "execution_count": 22,
   "metadata": {},
   "outputs": [],
   "source": [
    "psd_r, freqs = stats.psd(trials_filt['left'], sample_rate)\n",
    "psd_f, freqs = stats.psd(trials_filt['right'], sample_rate)\n",
    "trials_PSD = {'left': psd_r, 'right': psd_f}"
   ]
  },
  {
   "cell_type": "code",
   "execution_count": 23,
   "metadata": {},
   "outputs": [
    {
     "data": {
      "image/png": "[encoded data removed]",
      "text/plain": [
       "<Figure size 1200x500 with 3 Axes>"
      ]
     },
     "metadata": {},
     "output_type": "display_data"
    }
   ],
   "source": [
    "stats.plot_psd(\n",
    "    trials_PSD,\n",
    "    trials_filt,\n",
    "    freqs,\n",
    "    [2, 17, 3],\n",
    "    chan_lab=['left', 'center', 'right'],\n",
    "    maxy=20\n",
    ")"
   ]
  },
  {
   "cell_type": "code",
   "execution_count": 24,
   "metadata": {},
   "outputs": [],
   "source": [
    "W = stats.csp(trials_filt['left'], trials_filt['right'])\n",
    "trials_csp = {'left': stats.apply_mix(W, trials_filt['left']),\n",
    "              'right': stats.apply_mix(W, trials_filt['right'])}"
   ]
  },
  {
   "cell_type": "code",
   "execution_count": 25,
   "metadata": {},
   "outputs": [],
   "source": [
    "trials_logvar = {'left': logvar(trials_csp['left'], axis=1),\n",
    "                 'right': logvar(trials_csp['right'], axis=1)}"
   ]
  },
  {
   "cell_type": "code",
   "execution_count": 26,
   "metadata": {},
   "outputs": [],
   "source": [
    "stats.plot_logvar(trials_logvar, trials_filt)"
   ]
  },
  {
   "cell_type": "markdown",
   "metadata": {},
   "source": [
    "# LDA and metrics"
   ]
  }
 ],
 "metadata": {
  "kernelspec": {
   "display_name": "Python 3",
   "language": "python",
   "name": "python3"
  },
  "language_info": {
   "codemirror_mode": {
    "name": "ipython",
    "version": 3
   },
   "file_extension": ".py",
   "mimetype": "text/x-python",
   "name": "python",
   "nbconvert_exporter": "python",
   "pygments_lexer": "ipython3",
   "version": "3.12.5"
  }
 },
 "nbformat": 4,
 "nbformat_minor": 2
}
