{
 "cells": [
  {
   "cell_type": "code",
   "execution_count": 8,
   "metadata": {},
   "outputs": [],
   "source": [
    "import numpy\n",
    "import torch\n",
    "from torch.utils.data import Dataset, DataLoader\n",
    "import torchmetrics\n",
    "from torchmetrics import Accuracy"
   ]
  },
  {
   "cell_type": "code",
   "execution_count": 9,
   "metadata": {},
   "outputs": [],
   "source": [
    "windows_l:numpy.ndarray = numpy.random.randint(0, 100, size=(61, 100, 19)) + 19\n",
    "windows_r:numpy.ndarray = numpy.random.randint(0, 100, size=(61, 100, 19))\n",
    "y_l:numpy.ndarray = numpy.zeros((61, 1))\n",
    "y_r:numpy.ndarray = numpy.ones((61, 1))\n",
    "\n",
    "\n",
    "### Train\n",
    "windows_train_l:numpy.ndarray = windows_l[:45]\n",
    "windows_train_r:numpy.ndarray = windows_r[:45]\n",
    "y_train_l:numpy.ndarray = y_l[:45]\n",
    "y_train_r:numpy.ndarray = y_r[:45]\n",
    "\n",
    "### Test \n",
    "windows_test_l:numpy.ndarray = windows_l[45:]\n",
    "windows_test_r:numpy.ndarray = windows_r[45:]\n",
    "y_test_l:numpy.ndarray = y_l[45:]\n",
    "y_test_r:numpy.ndarray = y_r[45:]"
   ]
  },
  {
   "cell_type": "code",
   "execution_count": 11,
   "metadata": {},
   "outputs": [],
   "source": [
    "class SignalsDataset(torch.nn.Module):\n",
    "  def __init__(self, X_l:numpy.ndarray, X_r:numpy.ndarray, y_l:numpy.ndarray, y_r:numpy.ndarray)->None:\n",
    "    self.X:torch.Tensor = torch.tensor(numpy.concatenate((X_l, X_r), axis=0), dtype=torch.float32)\n",
    "    self.y:torch.Tensor = torch.tensor(numpy.concatenate((y_l, y_r), axis=0), dtype=torch.float32)\n",
    "    \n",
    "  def __getitem__(self, index:int):\n",
    "    return (self.X[index], self.y[index])\n",
    "\n",
    "  def __len__(self)->int:\n",
    "    return len(self.X)"
   ]
  },
  {
   "cell_type": "code",
   "execution_count": 5,
   "metadata": {},
   "outputs": [],
   "source": [
    "train_dataset:SignalsDataset = SignalsDataset(\n",
    "  windows_train_l,\n",
    "  windows_train_r,\n",
    "  y_train_l,\n",
    "  y_train_r)\n",
    "\n",
    "test_dataset:SignalsDataset = SignalsDataset(\n",
    "  windows_test_l,\n",
    "  windows_test_r,\n",
    "  y_test_l,\n",
    "  y_test_r)"
   ]
  },
  {
   "cell_type": "code",
   "execution_count": 15,
   "metadata": {},
   "outputs": [],
   "source": [
    "device:torch.device = torch.device(\"cuda\" if torch.cuda.is_available() else \"cpu\")\n",
    "batch_size:int = 10\n",
    "num_epochs:int = 200\n",
    "learning_rate:float = 1e-3"
   ]
  },
  {
   "cell_type": "code",
   "execution_count": 12,
   "metadata": {},
   "outputs": [],
   "source": [
    "train_loader:DataLoader = DataLoader(\n",
    "  train_dataset,\n",
    "  batch_size, \n",
    "  shuffle=True,\n",
    "  num_workers=2\n",
    ")\n",
    "\n",
    "test_loader:DataLoader = DataLoader(\n",
    "  test_dataset,\n",
    "  batch_size, \n",
    "  shuffle=True,\n",
    "  num_workers=2\n",
    ")"
   ]
  },
  {
   "cell_type": "code",
   "execution_count": 13,
   "metadata": {},
   "outputs": [],
   "source": [
    "class MLP(torch.nn.Module):\n",
    "  def __init__(self)->None:\n",
    "    super(MLP, self).__init__()\n",
    "\n",
    "    self.flatten:torch.nn.Flatten = torch.nn.Flatten() # (10, 100, 19) -> (10, 1900)\n",
    "    self.fc1:torch.nn.Linear = torch.nn.Linear(100*19, 100) # (10, 1900) x (1900, 100) -> (10, 100)\n",
    "    self.fc2:torch.nn.Linear = torch.nn.Linear(100, 1) # (10, 100) x (100, 1) -> (10, 1)\n",
    "    self.relu:torch.nn.ReLU = torch.nn.ReLU(inplace=True)\n",
    "    self.softmax:torch.nn.Softmax = torch.nn.Softmax(dim=1)\n",
    "\n",
    "  def forward(self, X:torch.Tensor)->torch.Tensor:\n",
    "    out:torch.Tensor = self.fc1(self.flatten(X))\n",
    "    out:torch.Tensor = self.relu(out)\n",
    "    out:torch.Tensor = self.fc2(out)\n",
    "    out:torch.Tensor = self.softmax(out)\n",
    "    return out"
   ]
  },
  {
   "cell_type": "code",
   "execution_count": 16,
   "metadata": {},
   "outputs": [],
   "source": [
    "model:MLP = MLP().to(device)"
   ]
  },
  {
   "cell_type": "code",
   "execution_count": 20,
   "metadata": {},
   "outputs": [],
   "source": [
    "def train_model(train_loader:DataLoader, model, num_epochs:int, lr:float, device:torch.device, save_path:str):\n",
    "    criterion:torch.nn.BCELoss = torch.nn.BCELoss()\n",
    "    optimizer:torch.optim.Adam = torch.optim.Adam(model.parameters(), lr=learning_rate)\n",
    "    for epoch in tqdm(range(num_epochs)):\n",
    "        model.train()\n",
    "        for _, (features, labels) in enumerate(train_loader):\n",
    "            optimizer.zero_grad()\n",
    "            outputs:torch.Tensor = model(features.to(device))\n",
    "            loss:torch.Tensor = criterion(outputs.to(device), labels.to(device))\n",
    "            loss.backward()\n",
    "            optimizer.step()\n",
    "        torch.save(model, save_path)\n",
    "        print(f\"loss: {loss.detach().cpu().numpy():.4f}\")\n",
    "    return model"
   ]
  },
  {
   "cell_type": "code",
   "execution_count": 18,
   "metadata": {},
   "outputs": [],
   "source": [
    "def eval_model(test_loader:DataLoader, model, device:torch.device)->list[float]:\n",
    "    accuracy:Accuracy = Accuracy('binary')\n",
    "    accuracies:list[float] = []\n",
    "    for _, (features, labels) in enumerate(test_loader):\n",
    "        model.eval()\n",
    "        with torch.no_grad():\n",
    "            outputs:torch.Tensor = model(features.to(device))\n",
    "            batch_accuracy:torch.Tensor = accuracy(outputs.to(device), labels.to(device))\n",
    "            accuracies.append(batch_accuracy.detach().cpu().numpy())\n",
    "    return accuracies"
   ]
  },
  {
   "cell_type": "code",
   "execution_count": null,
   "metadata": {},
   "outputs": [],
   "source": [
    "train_model(\n",
    "  train_loader,\n",
    "  model,\n",
    "  num_epochs,\n",
    "  learning_rate,\n",
    "  device,\n",
    "  \"./models/best_mlp_model.pth\")"
   ]
  },
  {
   "cell_type": "code",
   "execution_count": null,
   "metadata": {},
   "outputs": [],
   "source": [
    "accuracies:list[float] = eval_model(\n",
    "  test_loader,\n",
    "  model,\n",
    "  device\n",
    ")"
   ]
  },
  {
   "cell_type": "code",
   "execution_count": null,
   "metadata": {},
   "outputs": [],
   "source": [
    "print(f\"Accuracy: {numpy.mean(accuracies)}\")"
   ]
  }
 ],
 "metadata": {
  "kernelspec": {
   "display_name": "Python 3",
   "language": "python",
   "name": "python3"
  },
  "language_info": {
   "codemirror_mode": {
    "name": "ipython",
    "version": 3
   },
   "file_extension": ".py",
   "mimetype": "text/x-python",
   "name": "python",
   "nbconvert_exporter": "python",
   "pygments_lexer": "ipython3",
   "version": "3.12.6"
  }
 },
 "nbformat": 4,
 "nbformat_minor": 2
}
