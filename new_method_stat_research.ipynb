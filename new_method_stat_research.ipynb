{
 "cells": [
  {
   "cell_type": "markdown",
   "metadata": {},
   "source": [
    "# Data preparation"
   ]
  },
  {
   "cell_type": "code",
   "execution_count": 1,
   "metadata": {},
   "outputs": [],
   "source": [
    "import numpy as np\n",
    "import scipy\n",
    "import matplotlib.pyplot as plt\n",
    "import pandas as pd\n",
    "from datetime import datetime"
   ]
  },
  {
   "cell_type": "code",
   "execution_count": 189,
   "metadata": {},
   "outputs": [],
   "source": [
    "from sklearn.discriminant_analysis import LinearDiscriminantAnalysis\n",
    "from sklearn.model_selection import train_test_split\n",
    "from sklearn.metrics import accuracy_score"
   ]
  },
  {
   "cell_type": "code",
   "execution_count": 60,
   "metadata": {},
   "outputs": [],
   "source": [
    "import mne\n",
    "import stats"
   ]
  },
  {
   "cell_type": "code",
   "execution_count": 3,
   "metadata": {},
   "outputs": [],
   "source": [
    "from scipy.signal import ShortTimeFFT\n",
    "from scipy.signal.windows import gaussian"
   ]
  },
  {
   "cell_type": "code",
   "execution_count": 4,
   "metadata": {},
   "outputs": [
    {
     "name": "stdout",
     "output_type": "stream",
     "text": [
      "Extracting EDF parameters from /home/delta_c/EnW/Biotech_Researches/EEG_Event_Classification/data/Ears_lr1.edf...\n",
      "EDF file detected\n",
      "Setting channel info structure...\n",
      "Creating raw.info structure...\n",
      "Reading 0 ... 70999  =      0.000 ...   141.998 secs...\n"
     ]
    },
    {
     "name": "stderr",
     "output_type": "stream",
     "text": [
      "/tmp/ipykernel_2396/995447494.py:1: RuntimeWarning: Channel names are not unique, found duplicates for: {'SAO2'}. Applying running numbers for duplicates.\n",
      "  raw = mne.io.read_raw_edf('data/Ears_lr1.edf', preload=True)\n"
     ]
    }
   ],
   "source": [
    "raw = mne.io.read_raw_edf('data/Ears_lr1.edf', preload=True)"
   ]
  },
  {
   "cell_type": "code",
   "execution_count": 5,
   "metadata": {},
   "outputs": [],
   "source": [
    "sample_rate = raw.info['sfreq']"
   ]
  },
  {
   "cell_type": "code",
   "execution_count": 14,
   "metadata": {},
   "outputs": [
    {
     "data": {
      "text/html": [
       "<details open>\n",
       "    <summary><strong>General</strong></summary>\n",
       "    <table class=\"table table-hover table-striped table-sm table-responsive small\">\n",
       "        <tr>\n",
       "            <th>Measurement date</th>\n",
       "            \n",
       "            <td>October 09, 2024  16:02:35 GMT</td>\n",
       "            \n",
       "        </tr>\n",
       "        <tr>\n",
       "            <th>Experimenter</th>\n",
       "            \n",
       "            <td>Unknown</td>\n",
       "            \n",
       "        </tr>\n",
       "        <tr>\n",
       "            <th>Participant</th>\n",
       "            \n",
       "            \n",
       "            <td>5d106bf1-e0b7-4ff8-a364-276fbd64079f</td>\n",
       "            \n",
       "            \n",
       "        </tr>\n",
       "    </table>\n",
       "    </details>\n",
       "    <details open>\n",
       "        <summary><strong>Channels</strong></summary>\n",
       "        <table class=\"table table-hover table-striped table-sm table-responsive small\">\n",
       "            <tr>\n",
       "                <th>Digitized points</th>\n",
       "                \n",
       "                <td>Not available</td>\n",
       "                \n",
       "            </tr>\n",
       "            <tr>\n",
       "                <th>Good channels</th>\n",
       "                <td>19 EEG</td>\n",
       "            </tr>\n",
       "            <tr>\n",
       "                <th>Bad channels</th>\n",
       "                <td>None</td>\n",
       "            </tr>\n",
       "            <tr>\n",
       "                <th>EOG channels</th>\n",
       "                <td>Not available</td>\n",
       "            </tr>\n",
       "            <tr>\n",
       "                <th>ECG channels</th>\n",
       "                <td>Not available</td>\n",
       "            </tr>\n",
       "        </table>\n",
       "        </details>\n",
       "        <details open>\n",
       "            <summary><strong>Data</strong></summary>\n",
       "            <table class=\"table table-hover table-striped table-sm table-responsive small\">\n",
       "                \n",
       "                <tr>\n",
       "                    <th>Sampling frequency</th>\n",
       "                    <td>500.00 Hz</td>\n",
       "                </tr>\n",
       "                \n",
       "                \n",
       "                <tr>\n",
       "                    <th>Highpass</th>\n",
       "                    <td>0.00 Hz</td>\n",
       "                </tr>\n",
       "                \n",
       "                \n",
       "                <tr>\n",
       "                    <th>Lowpass</th>\n",
       "                    <td>250.00 Hz</td>\n",
       "                </tr>\n",
       "                \n",
       "                \n",
       "                \n",
       "                <tr>\n",
       "                    <th>Filenames</th>\n",
       "                    <td>Ears_lr1.edf</td>\n",
       "                </tr>\n",
       "                \n",
       "                \n",
       "                <tr>\n",
       "                    <th>Duration</th>\n",
       "                    <td>00:02:22 (HH:MM:SS)</td>\n",
       "                </tr>\n",
       "                \n",
       "            </table>\n",
       "            </details>"
      ],
      "text/plain": [
       "<RawEDF | Ears_lr1.edf, 19 x 71000 (142.0 s), ~10.3 MB, data loaded>"
      ]
     },
     "execution_count": 14,
     "metadata": {},
     "output_type": "execute_result"
    }
   ],
   "source": [
    "raw.drop_channels(raw.ch_names[-5:])"
   ]
  },
  {
   "cell_type": "code",
   "execution_count": 15,
   "metadata": {},
   "outputs": [
    {
     "data": {
      "text/html": [
       "<details open>\n",
       "    <summary><strong>General</strong></summary>\n",
       "    <table class=\"table table-hover table-striped table-sm table-responsive small\">\n",
       "        <tr>\n",
       "            <th>Measurement date</th>\n",
       "            \n",
       "            <td>October 09, 2024  16:02:35 GMT</td>\n",
       "            \n",
       "        </tr>\n",
       "        <tr>\n",
       "            <th>Experimenter</th>\n",
       "            \n",
       "            <td>Unknown</td>\n",
       "            \n",
       "        </tr>\n",
       "        <tr>\n",
       "            <th>Participant</th>\n",
       "            \n",
       "            \n",
       "            <td>5d106bf1-e0b7-4ff8-a364-276fbd64079f</td>\n",
       "            \n",
       "            \n",
       "        </tr>\n",
       "    </table>\n",
       "    </details>\n",
       "    <details open>\n",
       "        <summary><strong>Channels</strong></summary>\n",
       "        <table class=\"table table-hover table-striped table-sm table-responsive small\">\n",
       "            <tr>\n",
       "                <th>Digitized points</th>\n",
       "                \n",
       "                <td>Not available</td>\n",
       "                \n",
       "            </tr>\n",
       "            <tr>\n",
       "                <th>Good channels</th>\n",
       "                <td>19 EEG</td>\n",
       "            </tr>\n",
       "            <tr>\n",
       "                <th>Bad channels</th>\n",
       "                <td>None</td>\n",
       "            </tr>\n",
       "            <tr>\n",
       "                <th>EOG channels</th>\n",
       "                <td>Not available</td>\n",
       "            </tr>\n",
       "            <tr>\n",
       "                <th>ECG channels</th>\n",
       "                <td>Not available</td>\n",
       "            </tr>\n",
       "        </table>\n",
       "        </details>\n",
       "        <details open>\n",
       "            <summary><strong>Data</strong></summary>\n",
       "            <table class=\"table table-hover table-striped table-sm table-responsive small\">\n",
       "                \n",
       "                <tr>\n",
       "                    <th>Sampling frequency</th>\n",
       "                    <td>500.00 Hz</td>\n",
       "                </tr>\n",
       "                \n",
       "                \n",
       "                <tr>\n",
       "                    <th>Highpass</th>\n",
       "                    <td>0.00 Hz</td>\n",
       "                </tr>\n",
       "                \n",
       "                \n",
       "                <tr>\n",
       "                    <th>Lowpass</th>\n",
       "                    <td>250.00 Hz</td>\n",
       "                </tr>\n",
       "                \n",
       "                \n",
       "                \n",
       "                <tr>\n",
       "                    <th>Filenames</th>\n",
       "                    <td>Ears_lr1.edf</td>\n",
       "                </tr>\n",
       "                \n",
       "                \n",
       "                <tr>\n",
       "                    <th>Duration</th>\n",
       "                    <td>00:02:22 (HH:MM:SS)</td>\n",
       "                </tr>\n",
       "                \n",
       "            </table>\n",
       "            </details>"
      ],
      "text/plain": [
       "<RawEDF | Ears_lr1.edf, 19 x 71000 (142.0 s), ~10.3 MB, data loaded>"
      ]
     },
     "execution_count": 15,
     "metadata": {},
     "output_type": "execute_result"
    }
   ],
   "source": [
    "mapping = dict(zip(raw.ch_names, ['FP1', 'FP2', 'F3', 'F4', 'C3', 'C4', 'P3', 'P4', 'O1', 'O2', 'F7', 'F8', 'T3', 'T4', 'T5', 'T6', 'Fz', 'Cz', 'Pz']))\n",
    "raw.rename_channels(mapping)"
   ]
  },
  {
   "cell_type": "code",
   "execution_count": 33,
   "metadata": {},
   "outputs": [],
   "source": [
    "n_channels = len(raw.ch_names)"
   ]
  },
  {
   "cell_type": "code",
   "execution_count": 20,
   "metadata": {},
   "outputs": [
    {
     "data": {
      "text/plain": [
       "(71000, 19)"
      ]
     },
     "execution_count": 20,
     "metadata": {},
     "output_type": "execute_result"
    }
   ],
   "source": [
    "data = raw['data'][0].T\n",
    "data.shape"
   ]
  },
  {
   "cell_type": "markdown",
   "metadata": {},
   "source": [
    "# Searching events"
   ]
  },
  {
   "cell_type": "code",
   "execution_count": 6,
   "metadata": {},
   "outputs": [
    {
     "data": {
      "text/html": [
       "<div>\n",
       "<style scoped>\n",
       "    .dataframe tbody tr th:only-of-type {\n",
       "        vertical-align: middle;\n",
       "    }\n",
       "\n",
       "    .dataframe tbody tr th {\n",
       "        vertical-align: top;\n",
       "    }\n",
       "\n",
       "    .dataframe thead th {\n",
       "        text-align: right;\n",
       "    }\n",
       "</style>\n",
       "<table border=\"1\" class=\"dataframe\">\n",
       "  <thead>\n",
       "    <tr style=\"text-align: right;\">\n",
       "      <th></th>\n",
       "      <th>Ear</th>\n",
       "      <th>Time</th>\n",
       "    </tr>\n",
       "  </thead>\n",
       "  <tbody>\n",
       "    <tr>\n",
       "      <th>0</th>\n",
       "      <td>Left</td>\n",
       "      <td>2024-10-09 16:02:40.026203</td>\n",
       "    </tr>\n",
       "    <tr>\n",
       "      <th>1</th>\n",
       "      <td>Right</td>\n",
       "      <td>2024-10-09 16:02:42.027171</td>\n",
       "    </tr>\n",
       "    <tr>\n",
       "      <th>2</th>\n",
       "      <td>Left</td>\n",
       "      <td>2024-10-09 16:02:44.027530</td>\n",
       "    </tr>\n",
       "    <tr>\n",
       "      <th>3</th>\n",
       "      <td>Right</td>\n",
       "      <td>2024-10-09 16:02:46.027743</td>\n",
       "    </tr>\n",
       "    <tr>\n",
       "      <th>4</th>\n",
       "      <td>Left</td>\n",
       "      <td>2024-10-09 16:02:48.027924</td>\n",
       "    </tr>\n",
       "  </tbody>\n",
       "</table>\n",
       "</div>"
      ],
      "text/plain": [
       "     Ear                        Time\n",
       "0   Left  2024-10-09 16:02:40.026203\n",
       "1  Right  2024-10-09 16:02:42.027171\n",
       "2   Left  2024-10-09 16:02:44.027530\n",
       "3  Right  2024-10-09 16:02:46.027743\n",
       "4   Left  2024-10-09 16:02:48.027924"
      ]
     },
     "execution_count": 6,
     "metadata": {},
     "output_type": "execute_result"
    }
   ],
   "source": [
    "stamps = pd.read_csv('data/click_timestamps1.csv')\n",
    "stamps.head()"
   ]
  },
  {
   "cell_type": "code",
   "execution_count": 7,
   "metadata": {},
   "outputs": [
    {
     "data": {
      "text/plain": [
       "[datetime.datetime(2024, 10, 9, 16, 2, 42, 27171),\n",
       " datetime.datetime(2024, 10, 9, 16, 2, 46, 27743)]"
      ]
     },
     "execution_count": 7,
     "metadata": {},
     "output_type": "execute_result"
    }
   ],
   "source": [
    "left_stamps = [datetime.strptime(stamp, '%Y-%m-%d %H:%M:%S.%f') for stamp in stamps[stamps['Ear'] == 'Left']['Time']]\n",
    "right_stamps = [datetime.strptime(stamp, '%Y-%m-%d %H:%M:%S.%f') for stamp in stamps[stamps['Ear'] == 'Right']['Time']]\n",
    "right_stamps[:2]"
   ]
  },
  {
   "cell_type": "code",
   "execution_count": 8,
   "metadata": {},
   "outputs": [
    {
     "data": {
      "text/plain": [
       "datetime.datetime(2024, 10, 9, 16, 2, 35)"
      ]
     },
     "execution_count": 8,
     "metadata": {},
     "output_type": "execute_result"
    }
   ],
   "source": [
    "initial_stamp = datetime.strptime(datetime.strftime(raw.info['meas_date'], '%Y-%m-%d %H:%M:%S.%f'), '%Y-%m-%d %H:%M:%S.%f')\n",
    "initial_stamp"
   ]
  },
  {
   "cell_type": "code",
   "execution_count": 9,
   "metadata": {},
   "outputs": [
    {
     "data": {
      "text/plain": [
       "[3514,\n",
       " 5514,\n",
       " 7514,\n",
       " 9514,\n",
       " 11514,\n",
       " 13515,\n",
       " 15515,\n",
       " 17515,\n",
       " 19515,\n",
       " 21516,\n",
       " 23516,\n",
       " 25516,\n",
       " 27516,\n",
       " 29516,\n",
       " 31517,\n",
       " 33517,\n",
       " 35517,\n",
       " 37517,\n",
       " 39518,\n",
       " 41518,\n",
       " 43518,\n",
       " 45518,\n",
       " 47518,\n",
       " 49519,\n",
       " 51519,\n",
       " 53519,\n",
       " 55519,\n",
       " 57519,\n",
       " 59520,\n",
       " 61520,\n",
       " 63520,\n",
       " 65520,\n",
       " 67520]"
      ]
     },
     "execution_count": 9,
     "metadata": {},
     "output_type": "execute_result"
    }
   ],
   "source": [
    "events = {\n",
    "    'left': [round(sample_rate * (left_stamps[i] - initial_stamp).total_seconds()) for i in range(len(left_stamps))],\n",
    "    'right': [round(sample_rate * (right_stamps[i] - initial_stamp).total_seconds()) for i in range(len(right_stamps))]\n",
    "}\n",
    "events['right']"
   ]
  },
  {
   "cell_type": "code",
   "execution_count": 31,
   "metadata": {},
   "outputs": [],
   "source": [
    "n_events = len(events['left'])"
   ]
  },
  {
   "cell_type": "markdown",
   "metadata": {},
   "source": [
    "# Fetching windows"
   ]
  },
  {
   "cell_type": "code",
   "execution_count": 166,
   "metadata": {},
   "outputs": [
    {
     "data": {
      "text/plain": [
       "100"
      ]
     },
     "execution_count": 166,
     "metadata": {},
     "output_type": "execute_result"
    }
   ],
   "source": [
    "win = np.arange(int(-0.1 * sample_rate), int(0.1 * sample_rate))\n",
    "len(win)"
   ]
  },
  {
   "cell_type": "code",
   "execution_count": 167,
   "metadata": {},
   "outputs": [
    {
     "data": {
      "text/plain": [
       "dict_keys(['left', 'right'])"
      ]
     },
     "execution_count": 167,
     "metadata": {},
     "output_type": "execute_result"
    }
   ],
   "source": [
    "events.keys()"
   ]
  },
  {
   "cell_type": "code",
   "execution_count": 168,
   "metadata": {},
   "outputs": [],
   "source": [
    "trials_l = []\n",
    "trials_r = []\n",
    "\n",
    "for side in events.keys():\n",
    "    for event in events[side]:\n",
    "        for i in win:\n",
    "            col = []\n",
    "            for j in range(19):\n",
    "                col.append(data[event + i][j] * 1e6)\n",
    "                \n",
    "            if side == 'right':\n",
    "                trials_r.append(col)\n",
    "            else:\n",
    "                trials_l.append(col)\n",
    "        \n",
    "trials_l = np.array(trials_l)\n",
    "trials_r = np.array(trials_r)"
   ]
  },
  {
   "cell_type": "code",
   "execution_count": 169,
   "metadata": {},
   "outputs": [],
   "source": [
    "trials_l = trials_l.T.reshape((n_channels, len(win), n_events))\n",
    "trials_r = trials_r.T.reshape((n_channels, len(win), n_events))"
   ]
  },
  {
   "cell_type": "markdown",
   "metadata": {},
   "source": [
    "# Statistical research\n",
    "\n",
    "The next code might be the most important in all notebook"
   ]
  },
  {
   "cell_type": "markdown",
   "metadata": {},
   "source": [
    "Now we need to calculate the varinces on both sides and subtrack of them to (?gram) another. There will be values that have different signs"
   ]
  },
  {
   "cell_type": "code",
   "execution_count": 170,
   "metadata": {},
   "outputs": [
    {
     "name": "stdout",
     "output_type": "stream",
     "text": [
      "Differences between variances\n",
      "FP1 : -0.21\n",
      "FP2 : 0.28\n",
      "F3 : 0.04\n",
      "F4 : 0.08\n",
      "C3 : 0.3\n",
      "C4 : -0.0\n",
      "P3 : 0.33\n",
      "P4 : 0.15\n",
      "O1 : 0.1\n",
      "O2 : 0.23\n",
      "F7 : -0.09\n",
      "F8 : 0.46\n",
      "T3 : 0.22\n",
      "T4 : 0.25\n",
      "T5 : 0.16\n",
      "T6 : 0.17\n",
      "Fz : -0.02\n",
      "Cz : 0.16\n",
      "Pz : 0.27\n"
     ]
    }
   ],
   "source": [
    "var_diffs = np.round(np.mean(stats.logvar(trials_l, axis=1), axis=1) - np.mean(stats.logvar(trials_r, axis=1), axis=1), 2)\n",
    "\n",
    "print('Differences between variances')\n",
    "for i in range(n_channels):\n",
    "    print(f'{raw.ch_names[i]} : {var_diffs[i]}')"
   ]
  },
  {
   "cell_type": "markdown",
   "metadata": {},
   "source": [
    "We're going to reach the thorouh separation of two stimuli and we need to check that our variances differs from one side of head to other to achieve this purpose. So, if we couldn't see quite good results we should change size or position of window and try previous steps again"
   ]
  },
  {
   "cell_type": "markdown",
   "metadata": {},
   "source": [
    "The spectrogram could be helpful in situation, when we couldn't find the right position of the window. Previously we need to set the left initial point of the window to zero"
   ]
  },
  {
   "cell_type": "code",
   "execution_count": 171,
   "metadata": {},
   "outputs": [],
   "source": [
    "w = gaussian(20, std=1, sym=True)  # symmetric Gaussian window\n",
    "SFT = ShortTimeFFT(w, hop=1, fs=sample_rate, scale_to='magnitude')\n",
    "Sx_l1 = SFT.stft(np.mean(trials_l[0, :, :], axis=1))\n",
    "Sx_l2 = SFT.stft(np.mean(trials_r[0, :, :], axis=1))"
   ]
  },
  {
   "cell_type": "code",
   "execution_count": 172,
   "metadata": {},
   "outputs": [
    {
     "data": {
      "image/png": "[encoded data removed]",
      "text/plain": [
       "<Figure size 600x400 with 2 Axes>"
      ]
     },
     "metadata": {},
     "output_type": "display_data"
    }
   ],
   "source": [
    "fig, ax = plt.subplots(figsize=(6., 4.))\n",
    "\n",
    "im1 = ax.imshow(abs(Sx_l1), origin='lower', aspect='auto',\n",
    "                 extent=SFT.extent(100), cmap='viridis')\n",
    "ax.set(xlabel=f\"Time $t$ in seconds ({SFT.p_num(100)} slices, \" +\n",
    "               rf\"$\\Delta t = {SFT.delta_t:g}\\,$s)\",\n",
    "        ylabel=f\"Freq. $f$ in Hz ({SFT.f_pts} bins, \" +\n",
    "               rf\"$\\Delta f = {SFT.delta_f:g}\\,$Hz)\")\n",
    "\n",
    "fig.colorbar(im1, label=\"Magnitude $|S_x(t, f)|$\")\n",
    "plt.show()"
   ]
  },
  {
   "cell_type": "code",
   "execution_count": 173,
   "metadata": {},
   "outputs": [
    {
     "data": {
      "image/png": "[encoded data removed]",
      "text/plain": [
       "<Figure size 600x400 with 2 Axes>"
      ]
     },
     "metadata": {},
     "output_type": "display_data"
    }
   ],
   "source": [
    "fig, ax = plt.subplots(figsize=(6., 4.))\n",
    "\n",
    "im2 = ax.imshow(abs(Sx_l2), origin='lower', aspect='auto',\n",
    "                 extent=SFT.extent(100), cmap='viridis')\n",
    "ax.set(xlabel=f\"Time $t$ in seconds ({SFT.p_num(100)} slices, \" +\n",
    "               rf\"$\\Delta t = {SFT.delta_t:g}\\,$s)\",\n",
    "        ylabel=f\"Freq. $f$ in Hz ({SFT.f_pts} bins, \" +\n",
    "               rf\"$\\Delta f = {SFT.delta_f:g}\\,$Hz)\")\n",
    "\n",
    "fig.colorbar(im2, label=\"Magnitude $|S_x(t, f)|$\")\n",
    "plt.show()"
   ]
  },
  {
   "cell_type": "markdown",
   "metadata": {},
   "source": [
    "# Data transforming\n",
    "\n",
    "The most magic part of the work"
   ]
  },
  {
   "cell_type": "code",
   "execution_count": 174,
   "metadata": {},
   "outputs": [],
   "source": [
    "W = np.array([[ 0.05752722, -0.19712048, -0.0704473 , -0.20025526, -0.01879376,\n",
    "         0.12123097,  0.33293908, -0.09450275,  0.05399266, -0.0138614 ,\n",
    "         0.07649579,  0.18357042,  0.06032243, -0.0599483 , -0.0245716 ,\n",
    "         0.06472738, -0.01172027,  0.12353227,  0.21192793],\n",
    "       [ 0.05656163, -0.05602463, -0.00256536,  0.15149498,  0.15671692,\n",
    "        -0.22824593, -0.15002825,  0.06530056,  0.12211465, -0.20354844,\n",
    "        -0.03640206, -0.14486027,  0.13122859,  0.0317153 ,  0.15445949,\n",
    "         0.0143024 ,  0.17770419, -0.12987388, -0.13383214],\n",
    "       [ 0.009687  , -0.19036234,  0.03394341, -0.07889788, -0.37191805,\n",
    "        -0.38748683, -0.34461784,  0.25820066,  0.21269164, -0.47661887,\n",
    "         0.4527156 , -0.18707224,  0.03427245, -0.40984379, -0.01912187,\n",
    "        -0.55102689,  0.08693864,  0.22153184,  0.04809895],\n",
    "       [-0.00099497, -0.12736672,  0.04695344, -0.11272359,  0.11220638,\n",
    "         0.13136718, -0.37117096, -0.01546613,  0.44334799, -0.14027671,\n",
    "         0.22376946,  0.36095391, -0.31797144,  0.15154333, -0.32459843,\n",
    "         0.16954411, -0.18524276,  0.20045299, -0.11047399],\n",
    "       [-0.03328607, -0.07273104, -0.18360247, -0.04573949,  0.167078  ,\n",
    "        -0.05529481,  0.10152502, -0.24906794,  0.32757255,  0.2923464 ,\n",
    "         0.02702155, -0.02191097, -0.24396996,  0.24228252,  0.06287331,\n",
    "        -0.0413808 , -0.01799875, -0.13733854, -0.05176213],\n",
    "       [-0.01259886,  0.03646927,  0.08755716, -0.16089142, -0.00413583,\n",
    "        -0.08944519,  0.13070571, -0.12934372,  0.05371178,  0.16806088,\n",
    "        -0.24316861,  0.04987193,  0.29843446, -0.18027227, -0.18112894,\n",
    "        -0.01482725, -0.04856398, -0.24753881, -0.03273983],\n",
    "       [-0.07934601, -0.00953116,  0.37005641,  0.32775844,  0.17822673,\n",
    "        -0.11104511, -0.06890314,  0.30151141, -0.29821897,  0.03942949,\n",
    "        -0.09627048,  0.20318381,  0.33621487, -0.16271708, -0.28695804,\n",
    "         0.05353952,  0.14543972,  0.03004476,  0.04422379],\n",
    "       [-0.13407112, -0.02105625, -0.04171046,  0.3031797 , -0.17892016,\n",
    "        -0.22618645, -0.09393714, -0.06710997,  0.08806788, -0.33007597,\n",
    "        -0.169941  ,  0.16028216, -0.19025089,  0.24550542,  0.05037129,\n",
    "         0.05792036, -0.07102958, -0.01661648,  0.05418165],\n",
    "       [ 0.02183989,  0.05715135,  0.32732029, -0.11436938,  0.04411129,\n",
    "         0.20762219, -0.09974819,  0.25462945,  0.28342261,  0.03680819,\n",
    "        -0.3052951 , -0.03965843, -0.45519587,  0.36069605,  0.26554255,\n",
    "        -0.24213939,  0.10062264, -0.10551372, -0.03300568],\n",
    "       [ 0.08043846,  0.02952784,  0.08618553, -0.21940371,  0.187125  ,\n",
    "         0.12402035,  0.38152969,  0.16789812, -0.11462338,  0.01154711,\n",
    "         0.56602531,  0.31874151,  0.5909703 ,  0.11101907, -0.08236974,\n",
    "        -0.21495007, -0.06768061, -0.15175213, -0.07489794],\n",
    "       [-0.0320905 ,  0.16390742,  0.0814771 , -0.04302144,  0.06220123,\n",
    "         0.00696897, -0.12061669, -0.06247969, -0.461099  ,  0.15011317,\n",
    "        -0.08911058,  0.03527044, -0.21905585,  0.22742094, -0.19354389,\n",
    "         0.14472453, -0.08193795, -0.24744205, -0.13652484],\n",
    "       [-0.0628931 ,  0.18722789, -0.10015349, -0.0637029 , -0.00175722,\n",
    "         0.11558439, -0.03152997,  0.10283078, -0.15672742,  0.09468028,\n",
    "        -0.18381849,  0.15687894, -0.08257347, -0.14522501,  0.01825796,\n",
    "        -0.16788481, -0.03446699, -0.0205165 ,  0.09694601],\n",
    "       [-0.06638711,  0.0397932 , -0.06836142,  0.24108337, -0.10486565,\n",
    "         0.51814403,  0.13705713, -0.32349672,  0.24112669, -0.32321107,\n",
    "        -0.0136792 ,  0.14294875,  0.15196966, -0.13927888,  0.15500378,\n",
    "        -0.057666  ,  0.15472077,  0.08904392, -0.06286992],\n",
    "       [-0.06590807,  0.10859904,  0.29576548,  0.2127937 , -0.4820125 ,\n",
    "         0.11818659,  0.35700592, -0.04582984, -0.14640609,  0.07570526,\n",
    "         0.35191326, -0.53531041, -0.35129877,  0.20613794,  0.12256316,\n",
    "         0.16449553,  0.22970106,  0.07185563,  0.12269964],\n",
    "       [ 0.01470575,  0.00159708, -0.39356867, -0.13146875, -0.18183663,\n",
    "        -0.21843117, -0.04406977, -0.00408851,  0.07546641,  0.06901584,\n",
    "         0.35782427, -0.18549586,  0.02781184, -0.14912155, -0.13777004,\n",
    "         0.4773133 , -0.25753575, -0.12744349,  0.04222141],\n",
    "       [ 0.01882052, -0.17345838, -0.12265209,  0.06603022,  0.09917994,\n",
    "         0.18339859, -0.39694167, -0.14422191,  0.00100814,  0.23766892,\n",
    "        -0.18865994, -0.25233367, -0.07564796, -0.2952235 ,  0.06443329,\n",
    "        -0.03426265,  0.03756386,  0.06624011,  0.07393578],\n",
    "       [-0.16968283,  0.20048695, -0.07844149,  0.22767002,  0.1005713 ,\n",
    "         0.1918199 ,  0.30935036,  0.01507843, -0.45917698,  0.44779675,\n",
    "        -0.40671606, -0.35017536,  0.32574029,  0.4072282 ,  0.21525787,\n",
    "         0.32586039, -0.02522778, -0.10915018,  0.03769331],\n",
    "       [ 0.23165407,  0.12214589,  0.11686807,  0.11373646, -0.05233554,\n",
    "         0.01847929, -0.04821726, -0.01130028, -0.11221075,  0.02043073,\n",
    "         0.00959209, -0.04171748, -0.02326509,  0.03895739, -0.07885576,\n",
    "        -0.12070943,  0.00963909,  0.06616875,  0.00234526],\n",
    "       [ 0.08758271, -0.05664203, -0.33388336, -0.40860464, -0.12568512,\n",
    "         0.06595953,  0.03308937, -0.04100695, -0.17055076, -0.03158351,\n",
    "        -0.01833496, -0.08171182, -0.11846913, -0.18882989,  0.24553035,\n",
    "         0.1295342 ,  0.0867337 ,  0.29683539, -0.05157026]])"
   ]
  },
  {
   "cell_type": "code",
   "execution_count": 175,
   "metadata": {},
   "outputs": [],
   "source": [
    "trials_filt = {'left': stats.bandpass(trials_l, 2, 15, sample_rate),\n",
    "               'right': stats.bandpass(trials_r, 2, 15, sample_rate)}"
   ]
  },
  {
   "cell_type": "code",
   "execution_count": 176,
   "metadata": {},
   "outputs": [],
   "source": [
    "trials_csp = {'left': stats.apply_mix(W, trials_filt['left']),\n",
    "              'right': stats.apply_mix(W, trials_filt['right'])}"
   ]
  },
  {
   "cell_type": "code",
   "execution_count": 177,
   "metadata": {},
   "outputs": [],
   "source": [
    "trials_logvar = {'left': stats.logvar(trials_csp['left'], axis=1),\n",
    "                 'right': stats.logvar(trials_csp['right'], axis=1)}"
   ]
  },
  {
   "cell_type": "code",
   "execution_count": 194,
   "metadata": {},
   "outputs": [
    {
     "data": {
      "image/png": "[encoded data removed]",
      "text/plain": [
       "<Figure size 640x480 with 1 Axes>"
      ]
     },
     "metadata": {},
     "output_type": "display_data"
    }
   ],
   "source": [
    "plt.scatter(trials_logvar['left'][3,:], trials_logvar['left'][1, :], c='blue')\n",
    "plt.scatter(trials_logvar['right'][3,:], trials_logvar['right'][1, :], c='red')\n",
    "plt.xlabel('1st channel logvar')\n",
    "plt.ylabel('2nd channel logvar')\n",
    "plt.legend(['left ear', 'right ear'])\n",
    "plt.show()"
   ]
  },
  {
   "cell_type": "markdown",
   "metadata": {},
   "source": [
    "**LDA**"
   ]
  },
  {
   "cell_type": "code",
   "execution_count": 181,
   "metadata": {},
   "outputs": [
    {
     "data": {
      "text/plain": [
       "(19, 33)"
      ]
     },
     "execution_count": 181,
     "metadata": {},
     "output_type": "execute_result"
    }
   ],
   "source": [
    "trials_logvar['left'].shape"
   ]
  },
  {
   "cell_type": "code",
   "execution_count": 182,
   "metadata": {},
   "outputs": [],
   "source": [
    "X = np.zeros((n_events * 2, n_channels))\n",
    "X[:n_events, :] = trials_logvar['left'].T\n",
    "X[n_events:, :] = trials_logvar['right'].T \n",
    "y = np.array([0] * n_events + [1] * n_events)"
   ]
  },
  {
   "cell_type": "code",
   "execution_count": 203,
   "metadata": {},
   "outputs": [
    {
     "data": {
      "text/plain": [
       "<matplotlib.collections.PathCollection at 0x7f3dd980b320>"
      ]
     },
     "execution_count": 203,
     "metadata": {},
     "output_type": "execute_result"
    },
    {
     "data": {
      "image/png": "[encoded data removed]",
      "text/plain": [
       "<Figure size 640x480 with 1 Axes>"
      ]
     },
     "metadata": {},
     "output_type": "display_data"
    }
   ],
   "source": [
    "plt.scatter(X[:, 1], X[:, 2], c=y)"
   ]
  },
  {
   "cell_type": "code",
   "execution_count": 185,
   "metadata": {},
   "outputs": [],
   "source": [
    "LDA = LinearDiscriminantAnalysis()"
   ]
  },
  {
   "cell_type": "code",
   "execution_count": 190,
   "metadata": {},
   "outputs": [],
   "source": [
    "X_train, X_test, y_train, y_test = train_test_split(X, y, test_size=0.2)"
   ]
  },
  {
   "cell_type": "code",
   "execution_count": 191,
   "metadata": {},
   "outputs": [],
   "source": [
    "LDA.fit(X_train, y_train)\n",
    "y_pred = LDA.predict(X_test)"
   ]
  },
  {
   "cell_type": "code",
   "execution_count": 192,
   "metadata": {},
   "outputs": [
    {
     "name": "stdout",
     "output_type": "stream",
     "text": [
      "Accuracy is 100.00%\n"
     ]
    }
   ],
   "source": [
    "print(f'Accuracy is {accuracy_score(y_test, y_pred) * 100:.2f}%')"
   ]
  }
 ],
 "metadata": {
  "kernelspec": {
   "display_name": "Python 3",
   "language": "python",
   "name": "python3"
  },
  "language_info": {
   "codemirror_mode": {
    "name": "ipython",
    "version": 3
   },
   "file_extension": ".py",
   "mimetype": "text/x-python",
   "name": "python",
   "nbconvert_exporter": "python",
   "pygments_lexer": "ipython3",
   "version": "3.12.6"
  }
 },
 "nbformat": 4,
 "nbformat_minor": 2
}
