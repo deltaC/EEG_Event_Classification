{
 "cells": [
  {
   "cell_type": "code",
   "execution_count": 10,
   "metadata": {},
   "outputs": [],
   "source": [
    "import numpy as np\n",
    "import scipy\n",
    "import matplotlib.pyplot as plt\n",
    "import pandas as pd\n",
    "from datetime import datetime"
   ]
  },
  {
   "cell_type": "code",
   "execution_count": 2,
   "metadata": {},
   "outputs": [],
   "source": [
    "import mne"
   ]
  },
  {
   "cell_type": "code",
   "execution_count": 28,
   "metadata": {},
   "outputs": [],
   "source": [
    "from scipy.signal import ShortTimeFFT\n",
    "from scipy.signal.windows import gaussian"
   ]
  },
  {
   "cell_type": "code",
   "execution_count": 3,
   "metadata": {},
   "outputs": [
    {
     "name": "stdout",
     "output_type": "stream",
     "text": [
      "Extracting EDF parameters from /home/delta_c/EnW/Biotech_Researches/EEG_Event_Classification/data/Ears_lr1.edf...\n",
      "EDF file detected\n",
      "Setting channel info structure...\n",
      "Creating raw.info structure...\n",
      "Reading 0 ... 70999  =      0.000 ...   141.998 secs...\n"
     ]
    },
    {
     "name": "stderr",
     "output_type": "stream",
     "text": [
      "/tmp/ipykernel_4953/995447494.py:1: RuntimeWarning: Channel names are not unique, found duplicates for: {'SAO2'}. Applying running numbers for duplicates.\n",
      "  raw = mne.io.read_raw_edf('data/Ears_lr1.edf', preload=True)\n"
     ]
    }
   ],
   "source": [
    "raw = mne.io.read_raw_edf('data/Ears_lr1.edf', preload=True)"
   ]
  },
  {
   "cell_type": "code",
   "execution_count": 29,
   "metadata": {},
   "outputs": [],
   "source": [
    "sample_rate = raw.info['sfreq']"
   ]
  },
  {
   "cell_type": "markdown",
   "metadata": {},
   "source": [
    "# Searching events"
   ]
  },
  {
   "cell_type": "code",
   "execution_count": 4,
   "metadata": {},
   "outputs": [
    {
     "data": {
      "text/html": [
       "<div>\n",
       "<style scoped>\n",
       "    .dataframe tbody tr th:only-of-type {\n",
       "        vertical-align: middle;\n",
       "    }\n",
       "\n",
       "    .dataframe tbody tr th {\n",
       "        vertical-align: top;\n",
       "    }\n",
       "\n",
       "    .dataframe thead th {\n",
       "        text-align: right;\n",
       "    }\n",
       "</style>\n",
       "<table border=\"1\" class=\"dataframe\">\n",
       "  <thead>\n",
       "    <tr style=\"text-align: right;\">\n",
       "      <th></th>\n",
       "      <th>Ear</th>\n",
       "      <th>Time</th>\n",
       "    </tr>\n",
       "  </thead>\n",
       "  <tbody>\n",
       "    <tr>\n",
       "      <th>0</th>\n",
       "      <td>Left</td>\n",
       "      <td>2024-10-09 16:02:40.026203</td>\n",
       "    </tr>\n",
       "    <tr>\n",
       "      <th>1</th>\n",
       "      <td>Right</td>\n",
       "      <td>2024-10-09 16:02:42.027171</td>\n",
       "    </tr>\n",
       "    <tr>\n",
       "      <th>2</th>\n",
       "      <td>Left</td>\n",
       "      <td>2024-10-09 16:02:44.027530</td>\n",
       "    </tr>\n",
       "    <tr>\n",
       "      <th>3</th>\n",
       "      <td>Right</td>\n",
       "      <td>2024-10-09 16:02:46.027743</td>\n",
       "    </tr>\n",
       "    <tr>\n",
       "      <th>4</th>\n",
       "      <td>Left</td>\n",
       "      <td>2024-10-09 16:02:48.027924</td>\n",
       "    </tr>\n",
       "  </tbody>\n",
       "</table>\n",
       "</div>"
      ],
      "text/plain": [
       "     Ear                        Time\n",
       "0   Left  2024-10-09 16:02:40.026203\n",
       "1  Right  2024-10-09 16:02:42.027171\n",
       "2   Left  2024-10-09 16:02:44.027530\n",
       "3  Right  2024-10-09 16:02:46.027743\n",
       "4   Left  2024-10-09 16:02:48.027924"
      ]
     },
     "execution_count": 4,
     "metadata": {},
     "output_type": "execute_result"
    }
   ],
   "source": [
    "stamps = pd.read_csv('data/click_timestamps1.csv')\n",
    "stamps.head()"
   ]
  },
  {
   "cell_type": "code",
   "execution_count": 23,
   "metadata": {},
   "outputs": [
    {
     "data": {
      "text/plain": [
       "[datetime.datetime(2024, 10, 9, 16, 2, 42, 27171),\n",
       " datetime.datetime(2024, 10, 9, 16, 2, 46, 27743)]"
      ]
     },
     "execution_count": 23,
     "metadata": {},
     "output_type": "execute_result"
    }
   ],
   "source": [
    "left_stamps = [datetime.strptime(stamp, '%Y-%m-%d %H:%M:%S.%f') for stamp in stamps[stamps['Ear'] == 'Left']['Time']]\n",
    "right_stamps = [datetime.strptime(stamp, '%Y-%m-%d %H:%M:%S.%f') for stamp in stamps[stamps['Ear'] == 'Right']['Time']]\n",
    "right_stamps[:2]"
   ]
  },
  {
   "cell_type": "code",
   "execution_count": 26,
   "metadata": {},
   "outputs": [
    {
     "data": {
      "text/plain": [
       "datetime.datetime(2024, 10, 9, 16, 2, 35)"
      ]
     },
     "execution_count": 26,
     "metadata": {},
     "output_type": "execute_result"
    }
   ],
   "source": [
    "initial_stamp = datetime.strptime(datetime.strftime(raw.info['meas_date'], '%Y-%m-%d %H:%M:%S.%f'), '%Y-%m-%d %H:%M:%S.%f')\n",
    "initial_stamp"
   ]
  },
  {
   "cell_type": "code",
   "execution_count": 32,
   "metadata": {},
   "outputs": [
    {
     "data": {
      "text/plain": [
       "[3514,\n",
       " 5514,\n",
       " 7514,\n",
       " 9514,\n",
       " 11514,\n",
       " 13515,\n",
       " 15515,\n",
       " 17515,\n",
       " 19515,\n",
       " 21516,\n",
       " 23516,\n",
       " 25516,\n",
       " 27516,\n",
       " 29516,\n",
       " 31517,\n",
       " 33517,\n",
       " 35517,\n",
       " 37517,\n",
       " 39518,\n",
       " 41518,\n",
       " 43518,\n",
       " 45518,\n",
       " 47518,\n",
       " 49519,\n",
       " 51519,\n",
       " 53519,\n",
       " 55519,\n",
       " 57519,\n",
       " 59520,\n",
       " 61520,\n",
       " 63520,\n",
       " 65520,\n",
       " 67520]"
      ]
     },
     "execution_count": 32,
     "metadata": {},
     "output_type": "execute_result"
    }
   ],
   "source": [
    "events = {\n",
    "    'left': [round(sample_rate * (left_stamps[i] - initial_stamp).total_seconds()) for i in range(len(left_stamps))],\n",
    "    'right': [round(sample_rate * (right_stamps[i] - initial_stamp).total_seconds()) for i in range(len(right_stamps))]\n",
    "}\n",
    "events['right']"
   ]
  },
  {
   "cell_type": "markdown",
   "metadata": {},
   "source": [
    "# Fetching windows"
   ]
  },
  {
   "cell_type": "code",
   "execution_count": null,
   "metadata": {},
   "outputs": [],
   "source": []
  }
 ],
 "metadata": {
  "kernelspec": {
   "display_name": "Python 3",
   "language": "python",
   "name": "python3"
  },
  "language_info": {
   "codemirror_mode": {
    "name": "ipython",
    "version": 3
   },
   "file_extension": ".py",
   "mimetype": "text/x-python",
   "name": "python",
   "nbconvert_exporter": "python",
   "pygments_lexer": "ipython3",
   "version": "3.12.5"
  }
 },
 "nbformat": 4,
 "nbformat_minor": 2
}
